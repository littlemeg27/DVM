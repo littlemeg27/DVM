{
 "cells": [
  {
   "cell_type": "markdown",
   "id": "7790bbd4-0d2e-4350-876f-eff8271cea4e",
   "metadata": {},
   "source": [
    "# Lab Instructions\n",
    "\n",
    "Complete your lab by answering questions below.  Feel free to add more code and text blocks as necessary.  Make sure that your answer is obvious.  Show your work on programming questions. The more you show, the more credit you can earn.  \n",
    "\n",
    "Zip the completed file and upload it to submit.  \n",
    "\n",
    "Questions will be graded using the rubric attached to the assignment."
   ]
  },
  {
   "cell_type": "markdown",
   "id": "425a1154-afc0-4148-8e92-31edce237c4e",
   "metadata": {},
   "source": [
    "**Q1:** Describe - in your own words - two things that - if you saw them on a scatterplot - would indicate that a linear model *was* a good fit for your data."
   ]
  },
  {
   "cell_type": "markdown",
   "id": "44dce3fb-7956-4777-ab0b-355e6a02f0bf",
   "metadata": {},
   "source": [
    "**A1:** "
   ]
  },
  {
   "cell_type": "markdown",
   "id": "2f8e7e23-aea3-4557-a573-5c937be7e4e9",
   "metadata": {},
   "source": [
    "**Q2:** Describe - in your own words - two things that - if you saw them on a scatterplot - would indicate that a linear model *was not* a good fit for your data."
   ]
  },
  {
   "cell_type": "markdown",
   "id": "c392ccb9-ba14-4d0b-b4dc-5b5e1cb5841d",
   "metadata": {},
   "source": [
    "**A2:** "
   ]
  },
  {
   "cell_type": "markdown",
   "id": "acc14ca0-0d61-4bb9-afad-3f6970178a45",
   "metadata": {},
   "source": [
    "**Q3:** How well can we predict the height a child will grow up to be if we know the height of that person's parents? Read in the height data using `df = pd.read_csv('Height_Data.csv', encoding='ISO-8859-1')`.  \n",
    "\n",
    "`MidParent` is a measure of the (approximately) average height of the mother and father.  `AdltChld` is a measure of the height of their child as an adult.  Create a scatterplot where `MidParent` is on the x-axis and `AdltChld` is on the y-axis.  \n",
    "\n",
    "Ensure that your plot has a clear title and axis labels."
   ]
  },
  {
   "cell_type": "code",
   "execution_count": 1,
   "id": "252cad89-05b7-4127-9ab2-9592698ea4ab",
   "metadata": {},
   "outputs": [],
   "source": [
    "#A3:\n"
   ]
  },
  {
   "cell_type": "markdown",
   "id": "3b9b8769-dee8-479f-930f-032512d24ed9",
   "metadata": {},
   "source": [
    "**Q4:** How would you describe the relationship of the height of parents (`MidParent`) to the height of their adult child (`AdltChld`)?  Does the relationship appear linear?  "
   ]
  },
  {
   "cell_type": "markdown",
   "id": "b23c9c05-ac7e-4ced-9fad-d0e2a66faf98",
   "metadata": {
    "tags": []
   },
   "source": [
    "**A4:** "
   ]
  },
  {
   "cell_type": "markdown",
   "id": "1981e196-3cf0-4576-bdc4-1b08034a38ed",
   "metadata": {},
   "source": [
    "**Q5:** Using, `hue=`, modify your plot in Q3 to identify the gender (`Gender`) of the adult child.  Does the relationship between parent height and adult child height change if the adult child is male vs. female?"
   ]
  },
  {
   "cell_type": "markdown",
   "id": "21e4b9a5-7b4d-4825-81ff-b8f4779be815",
   "metadata": {},
   "source": [
    "**A5:** "
   ]
  },
  {
   "cell_type": "markdown",
   "id": "aa41d755-62fc-4ca4-87b9-dd8cb94c20bf",
   "metadata": {},
   "source": [
    "**Q6:** Read in the sleep data using `df = pd.read_csv('Sleep.csv', encoding='ISO-8859-1')`. This dataset contains data on sleep habits for a variety of mammal species.  `SWsleep` is the number of hours of non-dreaming sleep the animal gets every night and `Parasleep` is the number of hours of dreaming sleep the animal gets.  `Brain` is the size of the animal's brain in grams.    \n",
    "\n",
    "Is there a relationship between the the size of an animal's brain and the number of hours an animal spends in dreaming sleep? Create a regression plot with `Brain` on the x-axis and `Parasleep` on the y-axis.\n",
    "\n",
    "Be sure to give your figure a title and appropriate axis labels."
   ]
  },
  {
   "cell_type": "code",
   "execution_count": 2,
   "id": "1adf1caf-a3cd-47fd-9fbe-d6552322da4e",
   "metadata": {},
   "outputs": [],
   "source": [
    "#A6:\n"
   ]
  },
  {
   "cell_type": "markdown",
   "id": "9215fb1d-cdac-4354-aa9b-555b87ab2102",
   "metadata": {
    "tags": []
   },
   "source": [
    "**Q7:** Would you model the relationship between an animal's brain size (`Brain`) and the number of hours that animal spends in dreaming sleep (`Parasleep`) using a linear model?  Why or why not?"
   ]
  },
  {
   "cell_type": "markdown",
   "id": "bb4503c3-ffee-4c7f-bda6-2672249b4895",
   "metadata": {},
   "source": [
    "**A7:**  "
   ]
  },
  {
   "cell_type": "markdown",
   "id": "d834ca44-a8d1-48af-8fcd-86304db90471",
   "metadata": {},
   "source": [
    "**Q8:** In your own words, describe one of the approaches we talked about in class for tackling non-linear relationships."
   ]
  },
  {
   "cell_type": "markdown",
   "id": "d03abe24-bbbb-4048-a1bd-3b0e4c07b255",
   "metadata": {},
   "source": [
    "**A8:** "
   ]
  },
  {
   "cell_type": "markdown",
   "id": "0be9edf3-fa8c-4a2b-b3d0-8998374ce5b2",
   "metadata": {},
   "source": [
    "**Q9:** How does the level of danger an animal experiences during sleep impact how much they sleep?  \n",
    "\n",
    "Create a scatterplot with `SWsleep` (non-dreaming sleep) on the x-axis and `Parasleep` (dreaming sleep) on the y-axis.  Color the points by the value of `Danger`. `Danger` is rated from 1, meaning the animal experiences very little danger while sleeping to 5 (humans), meaning the animal experiences a lot of danger while sleeping (cows). \n",
    "\n",
    "Be sure to give your figure a title and appropriate axis labels."
   ]
  },
  {
   "cell_type": "code",
   "execution_count": 3,
   "id": "2b1523b0-48e8-4a4b-a932-cfda670a6dae",
   "metadata": {
    "tags": []
   },
   "outputs": [],
   "source": [
    "#A9:\n"
   ]
  },
  {
   "cell_type": "markdown",
   "id": "2451b11c-e6fa-49fa-927b-15759479a2b4",
   "metadata": {},
   "source": [
    "**Q10:** In your own words, how does the level of danger an animal experiences during sleep impact how much they sleep?  "
   ]
  },
  {
   "cell_type": "markdown",
   "id": "8e3d3e83-3051-4299-91c9-ffbf68e28b69",
   "metadata": {},
   "source": [
    "**A10:**  "
   ]
  }
 ],
 "metadata": {
  "kernelspec": {
   "display_name": "Python 3 (ipykernel)",
   "language": "python",
   "name": "python3"
  },
  "language_info": {
   "codemirror_mode": {
    "name": "ipython",
    "version": 3
   },
   "file_extension": ".py",
   "mimetype": "text/x-python",
   "name": "python",
   "nbconvert_exporter": "python",
   "pygments_lexer": "ipython3",
   "version": "3.11.4"
  }
 },
 "nbformat": 4,
 "nbformat_minor": 5
}
