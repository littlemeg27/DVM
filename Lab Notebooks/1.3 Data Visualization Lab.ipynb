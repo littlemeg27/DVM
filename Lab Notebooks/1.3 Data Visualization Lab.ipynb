{
 "cells": [
  {
   "cell_type": "markdown",
   "id": "745729be-5560-4f36-bc6d-7e2d024d70d5",
   "metadata": {},
   "source": [
    "# Lab Instructions\n",
    "\n",
    "Complete your lab by answering questions below.  Feel free to add more code and text blocks as necessary.  Make sure that your answer is obvious.  Show your work on programming questions. The more you show, the more credit you can earn.  \n",
    "\n",
    "Zip the completed file and upload it to submit.  \n",
    "\n",
    "Questions will be graded using the rubric attached to the assignment."
   ]
  },
  {
   "cell_type": "markdown",
   "id": "425a1154-afc0-4148-8e92-31edce237c4e",
   "metadata": {},
   "source": [
    "**Q1:** `artist(s)_name` lists the names of the artist(s) credited on the song.  What type of data is `artist(s)_name` in the Spotify dataset?  Select two terms below that best describe the data type.  Import the Spotify data using `df = pd.read_csv('spotify-2023.csv', encoding='ISO-8859-1')`.\n",
    "\n",
    "* Categorical\n",
    "\n",
    "* Quantitative\n",
    "\n",
    "* Ordinal\n",
    "\n",
    "* Nominal\n",
    "\n",
    "* Continuous\n",
    "\n",
    "* Discrete\n",
    "\n",
    "* Regular\n",
    "\n",
    "* Irregular"
   ]
  },
  {
   "cell_type": "markdown",
   "id": "44dce3fb-7956-4777-ab0b-355e6a02f0bf",
   "metadata": {},
   "source": [
    "**A1:** \n",
    "\n",
    "print(df['artist(s)_name'].dtype)  # Likely outputs 'object'\n",
    "\n",
    "Best Terms:\n",
    "Categorical or Nominal"
   ]
  },
  {
   "cell_type": "markdown",
   "id": "2f8e7e23-aea3-4557-a573-5c937be7e4e9",
   "metadata": {},
   "source": [
    "**Q2:** `artist_count` lists the number of artists credited with the song.  What type of data is `artist_count` in the Spotify dataset?  Select two terms below that best describe the data type. \n",
    "\n",
    "* Categorical\n",
    "\n",
    "* Quantitative\n",
    "\n",
    "* Ordinal\n",
    "\n",
    "* Nominal\n",
    "\n",
    "* Continuous\n",
    "\n",
    "* Discrete\n",
    "\n",
    "* Regular\n",
    "\n",
    "* Irregular"
   ]
  },
  {
   "cell_type": "markdown",
   "id": "c392ccb9-ba14-4d0b-b4dc-5b5e1cb5841d",
   "metadata": {},
   "source": [
    "**A2:** \n",
    "\n",
    "print(df['artist_count'].dtype)  # Likely outputs 'int64'\n",
    "\n",
    "Best Terms:\n",
    "Quantitative or Discrete"
   ]
  },
  {
   "cell_type": "markdown",
   "id": "acc14ca0-0d61-4bb9-afad-3f6970178a45",
   "metadata": {},
   "source": [
    "**Q3:** `artist(s)_name` lists the names of the artist(s) credited on the song. Which artist(s) had the greatest number of songs in the Spotify dataset?  "
   ]
  },
  {
   "cell_type": "markdown",
   "id": "e83a027e-65fc-4e1e-b0a7-0894da08e50c",
   "metadata": {},
   "source": [
    "**A3:** \n",
    "\n",
    "import pandas as pd\n",
    "\n",
    "# Load the dataset\n",
    "df = pd.read_csv('spotify-2023.csv', encoding='ISO-8859-1')\n",
    "\n",
    "# Count the number of songs per artist(s)_name\n",
    "artist_song_counts = df['artist(s)_name'].value_counts()\n",
    "\n",
    "# Find the artist(s) with the maximum number of songs\n",
    "max_songs = artist_song_counts.max()\n",
    "top_artists = artist_song_counts[artist_song_counts == max_songs]\n",
    "\n",
    "# Display the result\n",
    "print(\"Artist(s) with the greatest number of songs:\")\n",
    "for artist, count in top_artists.items():\n",
    "    print(f\"{artist}: {count} songs\")"
   ]
  },
  {
   "cell_type": "markdown",
   "id": "3b9b8769-dee8-479f-930f-032512d24ed9",
   "metadata": {},
   "source": [
    "**Q4:** The `mode` feature in the Spotify data tells us if the song is written in a major or minor key.  Visualize the distribution of `mode` from the Spotify data.  Make sure to give your figure a title.  "
   ]
  },
  {
   "cell_type": "code",
   "execution_count": null,
   "id": "8ae52be8-16bc-4bb6-922e-c6e905910d7f",
   "metadata": {},
   "outputs": [],
   "source": [
    "**A4:** \n",
    "\n",
    "import pandas as pd\n",
    "import matplotlib.pyplot as plt\n",
    "\n",
    "# Load the dataset\n",
    "df = pd.read_csv('spotify-2023.csv', encoding='ISO-8859-1')\n",
    "\n",
    "# Verify the 'mode' column values\n",
    "print(\"Unique values in 'mode' column:\", df['mode'].unique())\n",
    "\n",
    "# Count the number of songs by mode\n",
    "mode_counts = df['mode'].value_counts()\n",
    "\n",
    "# Map mode values to labels for clarity (assuming 1 = Major, 0 = Minor)\n",
    "mode_labels = {1: 'Major', 0: 'Minor'}\n",
    "mode_counts.index = mode_counts.index.map(lambda x: mode_labels.get(x, x))\n",
    "\n",
    "# Create a bar plot\n",
    "plt.figure(figsize=(8, 5))\n",
    "mode_counts.plot(kind='bar', color=['skyblue', 'salmon'])\n",
    "plt.title('Distribution of Songs by Musical Mode (Major vs. Minor) in Spotify 2023')\n",
    "plt.xlabel('Musical Mode')\n",
    "plt.ylabel('Number of Songs')\n",
    "plt.xticks(rotation=0)\n",
    "plt.grid(axis='y', linestyle='--', alpha=0.7)\n",
    "plt.show()\n",
    "\n",
    "# Print the counts for reference\n",
    "print(\"\\nNumber of songs by mode:\")\n",
    "print(mode_counts)"
   ]
  },
  {
   "cell_type": "markdown",
   "id": "1981e196-3cf0-4576-bdc4-1b08034a38ed",
   "metadata": {},
   "source": [
    "**Q5:**  Based on the visualization you created to answer the previous question, are there more popular songs written in a major key or a minor key?"
   ]
  },
  {
   "cell_type": "markdown",
   "id": "21e4b9a5-7b4d-4825-81ff-b8f4779be815",
   "metadata": {},
   "source": [
    "**A5:** \n",
    "import pandas as pd\n",
    "import matplotlib.pyplot as plt\n",
    "\n",
    "# Load the dataset\n",
    "df = pd.read_csv('spotify-2023.csv', encoding='ISO-8859-1')\n",
    "\n",
    "# Check if 'mode' column exists and inspect its values\n",
    "print(\"Unique values in 'mode' column:\", df['mode'].unique())\n",
    "\n",
    "# Count songs by mode (assuming 1 = Major, 0 = Minor)\n",
    "mode_counts = df['mode'].value_counts()\n",
    "\n",
    "# Map mode values to labels for clarity\n",
    "mode_labels = {1: 'Major', 0: 'Minor'}\n",
    "mode_counts.index = mode_counts.index.map(mode_labels)\n",
    "\n",
    "# Display the counts\n",
    "print(\"\\nNumber of songs by key mode:\")\n",
    "print(mode_counts)\n",
    "\n",
    "# Determine which mode is more common\n",
    "most_common_mode = mode_counts.idxmax()\n",
    "most_common_count = mode_counts.max()\n",
    "print(f\"\\nThere are more popular songs in {most_common_mode} key ({most_common_count} songs).\")\n",
    "\n",
    "# Create a bar plot for visualization\n",
    "plt.figure(figsize=(8, 5))\n",
    "mode_counts.plot(kind='bar', color=['skyblue', 'salmon'])\n",
    "plt.title('Number of Popular Songs by Key Mode (Major vs. Minor)')\n",
    "plt.xlabel('Key Mode')\n",
    "plt.ylabel('Number of Songs')\n",
    "plt.xticks(rotation=0)\n",
    "plt.show()"
   ]
  },
  {
   "cell_type": "markdown",
   "id": "aa41d755-62fc-4ca4-87b9-dd8cb94c20bf",
   "metadata": {},
   "source": [
    "**Q6:** What is the mean number of beats per minute (`bpm`) in the songs included in the Spotify dataset? "
   ]
  },
  {
   "cell_type": "markdown",
   "id": "9215fb1d-cdac-4354-aa9b-555b87ab2102",
   "metadata": {
    "tags": []
   },
   "source": [
    "**A6:** \n",
    "\n",
    "import pandas as pd\n",
    "\n",
    "# Load the dataset\n",
    "df = pd.read_csv('spotify-2023.csv', encoding='ISO-8859-1')\n",
    "\n",
    "# Verify the column names and check for 'bpm'\n",
    "print(\"Column names:\", df.columns)\n",
    "\n",
    "# Calculate the mean bpm\n",
    "mean_bpm = df['bpm'].mean()\n",
    "\n",
    "# Display the result\n",
    "print(f\"The mean number of beats per minute (bpm) in the Spotify 2023 dataset is {mean_bpm:.2f} bpm.\")"
   ]
  },
  {
   "cell_type": "markdown",
   "id": "d834ca44-a8d1-48af-8fcd-86304db90471",
   "metadata": {},
   "source": [
    "**Q7:** Create a visualization of the number of beats per minute (`bpm`) of the songs in the Spotify dataset.  Make sure to give your visualization a title.  "
   ]
  },
  {
   "cell_type": "code",
   "execution_count": null,
   "id": "0baba40d-8515-4af2-9fe2-912b34b4563a",
   "metadata": {
    "tags": []
   },
   "outputs": [],
   "source": [
    "#A7: \n",
    "\n",
    "import pandas as pd\n",
    "import matplotlib.pyplot as plt\n",
    "\n",
    "# Load the dataset\n",
    "df = pd.read_csv('spotify-2023.csv', encoding='ISO-8859-1')\n",
    "\n",
    "# Verify the 'bpm' column\n",
    "print(\"Column names:\", df.columns)\n",
    "print(\"Sample bpm values:\", df['bpm'].head())\n",
    "print(\"Missing bpm values:\", df['bpm'].isnull().sum())\n",
    "\n",
    "# Create a histogram of bpm\n",
    "plt.figure(figsize=(10, 6))\n",
    "plt.hist(df['bpm'], bins=20, color='skyblue', edgecolor='black')\n",
    "plt.title('Distribution of Beats Per Minute (BPM) in Spotify 2023 Songs')\n",
    "plt.xlabel('Beats Per Minute (BPM)')\n",
    "plt.ylabel('Number of Songs')\n",
    "plt.grid(axis='y', linestyle='--', alpha=0.7)\n",
    "plt.show()"
   ]
  },
  {
   "cell_type": "markdown",
   "id": "d03abe24-bbbb-4048-a1bd-3b0e4c07b255",
   "metadata": {},
   "source": [
    "**Q8:** In your own words, how would you describe the purpose of data visualization?"
   ]
  },
  {
   "cell_type": "markdown",
   "id": "359d10b0-60b8-49cf-b972-108e74e1e3bc",
   "metadata": {},
   "source": [
    "**A8:** \n",
    "\n",
    "Data visualization turns data into pictures like charts or graphs to make it easier to understand. Its purpose is to show patterns and insights clearly, so people can quickly see what the data means and make better decisions."
   ]
  },
  {
   "cell_type": "markdown",
   "id": "0be9edf3-fa8c-4a2b-b3d0-8998374ce5b2",
   "metadata": {},
   "source": [
    "**Q9:** In your own words, describe the distribution of a feature."
   ]
  },
  {
   "cell_type": "markdown",
   "id": "f73af51a-a3ce-4aa0-857d-5d38692f534f",
   "metadata": {},
   "source": [
    "**A9:** \n",
    "\n",
    "The distribution of a feature shows how its values are spread out in a dataset. It reveals patterns, like where most values fall, if they’re bunched up or scattered, and if there are any extreme values. For example, it might show most songs have a tempo around 120 bpm with a few faster or slower ones. It helps you understand what’s normal for that feature."
   ]
  },
  {
   "cell_type": "markdown",
   "id": "2451b11c-e6fa-49fa-927b-15759479a2b4",
   "metadata": {},
   "source": [
    "**Q10:** In your own words, describe one principle of good visualization design."
   ]
  },
  {
   "cell_type": "markdown",
   "id": "8e3d3e83-3051-4299-91c9-ffbf68e28b69",
   "metadata": {},
   "source": [
    "**A10:** \n",
    "\n",
    "A key principle of good visualization design is clarity. Make the chart simple and easy to understand with clear labels and minimal clutter, so people can quickly see the main point without confusion."
   ]
  }
 ],
 "metadata": {
  "kernelspec": {
   "display_name": "Python [conda env:base] *",
   "language": "python",
   "name": "conda-base-py"
  },
  "language_info": {
   "codemirror_mode": {
    "name": "ipython",
    "version": 3
   },
   "file_extension": ".py",
   "mimetype": "text/x-python",
   "name": "python",
   "nbconvert_exporter": "python",
   "pygments_lexer": "ipython3",
   "version": "3.12.7"
  }
 },
 "nbformat": 4,
 "nbformat_minor": 5
}
