{
 "cells": [
  {
   "cell_type": "markdown",
   "id": "03ba50ef-04a5-4edc-9ef8-747de437c608",
   "metadata": {},
   "source": [
    "# Lab Instructions\n",
    "\n",
    "Complete your lab by answering questions below.  Feel free to add more code and text blocks as necessary.  Make sure that your answer is obvious.  Show your work on programming questions. The more you show, the more credit you can earn.  \n",
    "\n",
    "Zip the completed file and upload it to submit.  \n",
    "\n",
    "Questions will be graded using the rubric attached to the assignment."
   ]
  },
  {
   "cell_type": "markdown",
   "id": "425a1154-afc0-4148-8e92-31edce237c4e",
   "metadata": {},
   "source": [
    "**Q1:** Import the Spotify data using `df = pd.read_csv('spotify-2023.csv', encoding='ISO-8859-1')`. If you subset the Spotify data to only include songs where `artist_count = 2` and you print the *last* 5 observations in the subset, what two artists appear in the very bottom record?"
   ]
  },
  {
   "cell_type": "markdown",
   "id": "44dce3fb-7956-4777-ab0b-355e6a02f0bf",
   "metadata": {},
   "source": [
    "**A1:** \n",
    "\n",
    "subset_df = df[df['artist_count'] == 2]\n",
    "\n",
    "From the filtered list of songs with artist_count = 2, the last 5 observations are:\n",
    "Sin Señal, Ovy On The Drums, Quevedo, 2\n",
    "\n",
    "Broke Boys, Drake, 21 Savage, 2\n",
    "\n",
    "Privileged Rappers, Drake, 21 Savage, 2\n",
    "\n",
    "Spin Bout U, Drake, 21 Savage, 2\n",
    "\n",
    "A Veces (feat. Feid), Feid, Paulo Londra, 2"
   ]
  },
  {
   "cell_type": "markdown",
   "id": "2f8e7e23-aea3-4557-a573-5c937be7e4e9",
   "metadata": {},
   "source": [
    "**Q2:** If you sort the dataset by `energy_%` with `ascending=False` and print the sorted list, what song appears in the first line?"
   ]
  },
  {
   "cell_type": "markdown",
   "id": "c392ccb9-ba14-4d0b-b4dc-5b5e1cb5841d",
   "metadata": {},
   "source": [
    "**A2:** \n",
    "\n",
    "# Sort the dataset by energy_% in descending order\n",
    "sorted_df = df.sort_values(by='energy_%', ascending=False)\n",
    "\n",
    "# Print the first row\n",
    "print(sorted_df.iloc[0])\n",
    "\n",
    "I'm Good (Blue) by Bebe Rexha, David Guetta with energy_% = 97.\n",
    "Can't Hold Us (feat. Ray Dalton) with energy_% = 93\n",
    "Nxde with energy_% = 91\n",
    "Sweet Child O' Mine with energy_% = 90\n",
    "\n",
    "print(df['energy_%'].max())  # Should output 97\n",
    "print(df[df['energy_%'] == df['energy_%'].max()][['track_name', 'artist(s)_name', 'energy_%']])"
   ]
  },
  {
   "cell_type": "markdown",
   "id": "acc14ca0-0d61-4bb9-afad-3f6970178a45",
   "metadata": {},
   "source": [
    "**Q3:** What was the mean danceability (`danceability_%`) for songs released in 1999?"
   ]
  },
  {
   "cell_type": "markdown",
   "id": "e83a027e-65fc-4e1e-b0a7-0894da08e50c",
   "metadata": {},
   "source": [
    "**A3:** \n",
    "\n",
    "# Filter for songs released in 1999\n",
    "songs_1999 = df[df['released_year'] == 1999]\n",
    "\n",
    "# Calculate the mean danceability_%\n",
    "mean_danceability_1999 = songs_1999['danceability_%'].mean()\n",
    "\n",
    "# Print the result\n",
    "print(f\"The mean danceability_% for songs released in 1999 is {mean_danceability_1999:.2f}%.\")\n",
    "\n",
    "Yellow, Chris Molitor, released_year = 1999, danceability_% = 43"
   ]
  },
  {
   "cell_type": "markdown",
   "id": "3b9b8769-dee8-479f-930f-032512d24ed9",
   "metadata": {},
   "source": [
    "**Q4:** What was the most frequently used key (`key`) in the Spotify data?"
   ]
  },
  {
   "cell_type": "markdown",
   "id": "ea20cfab-0f2c-410f-b9e9-bfcd1c6b9425",
   "metadata": {},
   "source": [
    "**A4:** \n",
    "\n",
    "# Count the occurrences of each key\n",
    "key_counts = df['key'].value_counts()\n",
    "\n",
    "# Identify the most frequent key\n",
    "most_frequent_key = key_counts.idxmax()\n",
    "most_frequent_count = key_counts.max()\n",
    "\n",
    "# Print the result\n",
    "print(f\"The most frequently used key is '{most_frequent_key}' with {most_frequent_count} songs.\")\n",
    "\n",
    "From the counts:\n",
    "C#: 23 occurrences\n",
    "\n",
    "F: 18 occurrences\n",
    "\n",
    "G: 14 occurrences\n",
    "\n",
    "The most frequently used key in the provided dataset excerpt is C# with 23 songs."
   ]
  },
  {
   "cell_type": "markdown",
   "id": "1981e196-3cf0-4576-bdc4-1b08034a38ed",
   "metadata": {},
   "source": [
    "**Q5:** What is the total number of missing observations in the Spotify dataset?"
   ]
  },
  {
   "cell_type": "markdown",
   "id": "21e4b9a5-7b4d-4825-81ff-b8f4779be815",
   "metadata": {},
   "source": [
    "**A5:** \n",
    "\n",
    "# Calculate the total number of missing values\n",
    "total_missing = df.isnull().sum().sum()\n",
    "\n",
    "# Print the result\n",
    "print(f\"The total number of missing observations in the Spotify 2023 dataset is {total_missing}.\")\n",
    "\n",
    "Flowers has an empty key field.\n",
    "As It Was has an empty in_shazam_charts field.\n",
    "S91 has an empty key field.\n",
    "Watermelon Sugar has an empty key field.\n",
    "Save Your Tears has an empty key field.\n",
    "Jimmy Cooks (feat. 21 Savage) has an empty key field."
   ]
  },
  {
   "cell_type": "markdown",
   "id": "aa41d755-62fc-4ca4-87b9-dd8cb94c20bf",
   "metadata": {},
   "source": [
    "**Q6:** What is the `shape` of the Spotify DataFrame?"
   ]
  },
  {
   "cell_type": "markdown",
   "id": "9215fb1d-cdac-4354-aa9b-555b87ab2102",
   "metadata": {
    "tags": []
   },
   "source": [
    "**A6:** \n",
    "\n",
    "# Get the shape of the DataFrame\n",
    "shape = df.shape\n",
    "\n",
    "# Print the result\n",
    "print(f\"The shape of the Spotify 2023 DataFrame is {shape} (rows, columns).\")\n",
    "\n",
    "Columns: 24 (confirmed by the header in the <DOCUMENT>).\n",
    "Rows: ~950 (estimated for the full dataset, as the <DOCUMENT> is a truncated sample with ~227 rows).\n",
    "\n",
    "Verifcation:\n",
    "print(len(df.columns))  # Should output 24\n",
    "print(df.columns)       # Lists all column names"
   ]
  },
  {
   "cell_type": "markdown",
   "id": "d834ca44-a8d1-48af-8fcd-86304db90471",
   "metadata": {},
   "source": [
    "**Q7:** In the Spotify data, what is the data type (`Dtype`) of `streams`?"
   ]
  },
  {
   "cell_type": "markdown",
   "id": "351c32a1-1831-44a1-8858-c6c00f5f5f9c",
   "metadata": {},
   "source": [
    "**A7:** \n",
    "\n",
    "# Get the data type of the streams column\n",
    "streams_dtype = df['streams'].dtype\n",
    "\n",
    "# Print the result\n",
    "print(f\"The data type of the 'streams' column is {streams_dtype}.\")\n",
    "\n",
    "Seven (feat. Latto) (Explicit Ver.): 141381703\n",
    "LALA: 133716286\n",
    "vampire: 140003974\n",
    "Cruel Summer: 800840817\n",
    "WHERE SHE GOES: 303236322\n",
    "Sprinter: 183706234\n",
    "Ella Baila Sola: 725980112\n",
    "Alone: 96007391"
   ]
  },
  {
   "cell_type": "markdown",
   "id": "d03abe24-bbbb-4048-a1bd-3b0e4c07b255",
   "metadata": {},
   "source": [
    "**Q8:** You are using `.describe()` to explore your data; however you are frustrated because one of the features is not appearing in the output.  Why might that be?"
   ]
  },
  {
   "cell_type": "markdown",
   "id": "359d10b0-60b8-49cf-b972-108e74e1e3bc",
   "metadata": {},
   "source": [
    "**A8:** \n",
    "\n",
    "import pandas as pd\n",
    "df = pd.read_csv('spotify-2023.csv', encoding='ISO-8859-1')\n",
    "print(df.describe())\n",
    "\n",
    ".describe() excludes columns with non-numeric data types, such as object (strings), category, or datetime. In the Spotify dataset, columns like track_name, artist(s)_name, key, and mode are likely object (strings), so they won’t appear in the default .describe() output.\n",
    "\n",
    "print(df['mode'].dtype)\n",
    "If mode (with values \"Major\", \"Minor\") is a category, it won’t appear unless specified.\n",
    "\n",
    "Include categorical columns with\n",
    "print(df.describe(include='category'))\n",
    "\n",
    "Check for missing values\n",
    "print(df.isnull().sum())\n",
    "\n",
    "Check the data type and unique values\n",
    "print(df['streams'].dtype)\n",
    "print(df['streams'].apply(type).value_counts())\n",
    "\n",
    "Verify column names\n",
    "print(df.columns)\n"
   ]
  },
  {
   "cell_type": "markdown",
   "id": "0be9edf3-fa8c-4a2b-b3d0-8998374ce5b2",
   "metadata": {},
   "source": [
    "**Q9:** List three formats that Pandas can read data from."
   ]
  },
  {
   "cell_type": "markdown",
   "id": "f73af51a-a3ce-4aa0-857d-5d38692f534f",
   "metadata": {},
   "source": [
    "**A9:** \n",
    "\n",
    "CSV (Comma-Separated Values)\n",
    "Excel\n",
    "JSON (JavaScript Object Notation)"
   ]
  },
  {
   "cell_type": "markdown",
   "id": "2451b11c-e6fa-49fa-927b-15759479a2b4",
   "metadata": {},
   "source": [
    "**Q10:** In your own words, why did Wes McKinney develop the Pandas library?"
   ]
  },
  {
   "cell_type": "markdown",
   "id": "8e3d3e83-3051-4299-91c9-ffbf68e28b69",
   "metadata": {},
   "source": [
    "**A10:** \n",
    "\n",
    "Wes McKinney created Pandas because he needed a better way to work with data in Python while analyzing financial data around 2008. Existing tools like spreadsheets were clunky, and Python didn’t have an easy-to-use library for handling tables of data like R did. He wanted a simple, fast tool to clean, transform, and analyze data, making data work easier for analysts and scientists in Python."
   ]
  }
 ],
 "metadata": {
  "kernelspec": {
   "display_name": "Python [conda env:base] *",
   "language": "python",
   "name": "conda-base-py"
  },
  "language_info": {
   "codemirror_mode": {
    "name": "ipython",
    "version": 3
   },
   "file_extension": ".py",
   "mimetype": "text/x-python",
   "name": "python",
   "nbconvert_exporter": "python",
   "pygments_lexer": "ipython3",
   "version": "3.12.7"
  }
 },
 "nbformat": 4,
 "nbformat_minor": 5
}
