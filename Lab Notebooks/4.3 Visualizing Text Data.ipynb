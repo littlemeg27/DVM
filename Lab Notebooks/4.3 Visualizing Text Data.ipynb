{
 "cells": [
  {
   "cell_type": "markdown",
   "id": "7790bbd4-0d2e-4350-876f-eff8271cea4e",
   "metadata": {},
   "source": [
    "# Lab Instructions\n",
    "\n",
    "Complete your lab by answering questions below.  Feel free to add more code and text blocks as necessary.  Make sure that your answer is obvious.  Show your work on programming questions. The more you show, the more credit you can earn.  \n",
    "\n",
    "Zip the completed file and upload it to submit.  \n",
    "\n",
    "Questions will be graded using the rubric attached to the assignment."
   ]
  },
  {
   "cell_type": "markdown",
   "id": "425a1154-afc0-4148-8e92-31edce237c4e",
   "metadata": {},
   "source": [
    "**Q1:** Identify a display of text data.  You can paste a link or screen shot below or create your own."
   ]
  },
  {
   "cell_type": "markdown",
   "id": "44dce3fb-7956-4777-ab0b-355e6a02f0bf",
   "metadata": {},
   "source": [
    "**A1:** "
   ]
  },
  {
   "cell_type": "markdown",
   "id": "2f8e7e23-aea3-4557-a573-5c937be7e4e9",
   "metadata": {},
   "source": [
    "**Q2:** Describe - in your own words - two interesting observations about the data being visualized in the display you selected for Q1."
   ]
  },
  {
   "cell_type": "markdown",
   "id": "c392ccb9-ba14-4d0b-b4dc-5b5e1cb5841d",
   "metadata": {},
   "source": [
    "**A2:** "
   ]
  },
  {
   "cell_type": "markdown",
   "id": "12acd8a4-928e-4405-a131-2ba6bee99dd2",
   "metadata": {},
   "source": [
    "**Q3:** Can we find patterns in the text of positive and negative movie reviews? Import the IMDB Movie Dataset using `df = pd.read_csv('IMDB_Dataset_Cleaned.csv', low_memory=False)`. This data has been processed lightly to remove some symbols and common words like \"film\" and \"movie\".\n",
    "\n",
    "Do positive and negative movie reviews differ in length? Plot the **maximum** length of positive and negative movie reviews using a barplot. You can modify the code from the 4.1 - Visualizing Text Data notebook by applying (`.apply()`) the `len` function to `review`, grouping by `sentiment`, and calculating the `max()`."
   ]
  },
  {
   "cell_type": "code",
   "execution_count": 1,
   "id": "d9ab7b68-a384-4330-84a1-8574d574bdc0",
   "metadata": {
    "tags": []
   },
   "outputs": [],
   "source": [
    "#A3:\n"
   ]
  },
  {
   "cell_type": "markdown",
   "id": "acc14ca0-0d61-4bb9-afad-3f6970178a45",
   "metadata": {},
   "source": [
    "**Q4:** Make one observation about the difference in the maximum length of reviews for movies with negative and positive sentiment."
   ]
  },
  {
   "cell_type": "markdown",
   "id": "76e6bc25-deb9-416b-a845-5191aaff1327",
   "metadata": {},
   "source": [
    "**A4:**"
   ]
  },
  {
   "cell_type": "markdown",
   "id": "1981e196-3cf0-4576-bdc4-1b08034a38ed",
   "metadata": {},
   "source": [
    "**Q5:** Create word clouds of the positive and negative reviews from the IMDB data.  You can modify the code we used in the 4.1 Visualizing Text Relationships notebook so that it identifies positive and negative reviews by looking at the \"sentiment\" column.  For example:\n",
    "\n",
    "`positive_reviews = ' '.join(df[df['sentiment'] == 'positive']['review'])`\n",
    "`negative_reviews = ' '.join(df[df['sentiment'] == 'negative']['review'])`\n",
    "\n",
    "It will take a little bit of time for the word clouds to be displayed."
   ]
  },
  {
   "cell_type": "code",
   "execution_count": 2,
   "id": "118666f7-ee1b-4973-9fcb-7f4d8334c994",
   "metadata": {
    "tags": []
   },
   "outputs": [],
   "source": [
    "#A5:\n"
   ]
  },
  {
   "cell_type": "markdown",
   "id": "aa41d755-62fc-4ca4-87b9-dd8cb94c20bf",
   "metadata": {},
   "source": [
    "**Q6:** Describe - in your own words - one observation about the word clouds for the negative and positive reviews."
   ]
  },
  {
   "cell_type": "markdown",
   "id": "e8eac03b-a58b-4412-a4fa-d69fb6f82d0c",
   "metadata": {},
   "source": [
    "**A6:** "
   ]
  },
  {
   "cell_type": "markdown",
   "id": "9215fb1d-cdac-4354-aa9b-555b87ab2102",
   "metadata": {
    "tags": []
   },
   "source": [
    "**Q7:** Describe - in your own words - one positive and one negative feature of displaying text data with a word cloud."
   ]
  },
  {
   "cell_type": "markdown",
   "id": "bb4503c3-ffee-4c7f-bda6-2672249b4895",
   "metadata": {},
   "source": [
    "**A7:** "
   ]
  },
  {
   "cell_type": "markdown",
   "id": "d834ca44-a8d1-48af-8fcd-86304db90471",
   "metadata": {},
   "source": [
    "**Q8:** Now we're going to use the built-in sentiment detector from textblob as we did in the 4.1 - Visualizing Text Data Notebook.  To do this, we'll need to make a few changes to be able to use the code on the IMDB data.  \n",
    "\n",
    "Modify the first line, which calculates sentiment so that it's called `sentiment_calc` because there is already a `sentiment` feature in the DataFrame.  You can use this statement:  \n",
    "\n",
    "\n",
    "`df['sentiment_calc'] = df['review'].apply(lambda x: TextBlob(x).sentiment.polarity)`\n",
    "\n",
    "Also, modify the statement to calculate the sentiment of key words to read:\n",
    "\n",
    "```\n",
    "sentiments = {}\n",
    "for keyword in keywords:\n",
    "       sentiments[keyword] = df[df['review'].str.contains(keyword,case=False,na=False)]['sentiment_calc'] \n",
    " ```      \n",
    "`\n",
    "       \n",
    "Plot the sentiment of the key words: \"funny\", \"scary\", \"romantic\" and \"exciting\".\n",
    "\n",
    "Note that this will also take a little time to run."
   ]
  },
  {
   "cell_type": "code",
   "execution_count": 3,
   "id": "aec173a4-7886-4007-881f-5002524125a5",
   "metadata": {
    "tags": []
   },
   "outputs": [],
   "source": [
    "#A8:\n"
   ]
  },
  {
   "cell_type": "markdown",
   "id": "0be9edf3-fa8c-4a2b-b3d0-8998374ce5b2",
   "metadata": {},
   "source": [
    "**Q9:** Which word (\"funny\", \"scary\", \"romantic\" or \"exciting\") is associated with the lowest mode sentiment?"
   ]
  },
  {
   "cell_type": "markdown",
   "id": "b29b6ccb-56a7-4f5c-8637-2849cd43c58d",
   "metadata": {},
   "source": [
    "**A9:** "
   ]
  },
  {
   "cell_type": "markdown",
   "id": "2451b11c-e6fa-49fa-927b-15759479a2b4",
   "metadata": {},
   "source": [
    "**Q10:** In your own words, describe one way you use natural language processing technology in your daily life."
   ]
  },
  {
   "cell_type": "markdown",
   "id": "8e3d3e83-3051-4299-91c9-ffbf68e28b69",
   "metadata": {},
   "source": [
    "**A10:** "
   ]
  }
 ],
 "metadata": {
  "kernelspec": {
   "display_name": "Python 3 (ipykernel)",
   "language": "python",
   "name": "python3"
  },
  "language_info": {
   "codemirror_mode": {
    "name": "ipython",
    "version": 3
   },
   "file_extension": ".py",
   "mimetype": "text/x-python",
   "name": "python",
   "nbconvert_exporter": "python",
   "pygments_lexer": "ipython3",
   "version": "3.11.4"
  }
 },
 "nbformat": 4,
 "nbformat_minor": 5
}
