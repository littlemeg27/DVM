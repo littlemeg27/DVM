{
 "cells": [
  {
   "cell_type": "markdown",
   "id": "03b012f6-6644-4c05-8269-586b4dc6b8fc",
   "metadata": {},
   "source": [
    "# Lab Instructions\n",
    "\n",
    "Complete your lab by answering questions below.  Feel free to add more code and text blocks as necessary.  Make sure that your answer is obvious.  Show your work on programming questions. The more you show, the more credit you can earn.  \n",
    "\n",
    "Zip the completed file and upload it to submit.  \n",
    "\n",
    "Questions will be graded using the rubric attached to the assignment."
   ]
  },
  {
   "cell_type": "markdown",
   "id": "6922efb7-3834-48e0-be76-407cec669b4b",
   "metadata": {},
   "source": [
    "**Q1:** Import the Titanic data using `df = pd.read_csv('titanic_passengers.csv')`  .In the Titanic dataset, the feature `Parch` tells the number of relatives - either parents or children - that that passenger had on the Titanic.  What values can `Parch` take on?"
   ]
  },
  {
   "cell_type": "markdown",
   "id": "e4d6e885-caf0-4761-a48a-2994b0cc0614",
   "metadata": {},
   "source": [
    "**A1:** "
   ]
  },
  {
   "cell_type": "markdown",
   "id": "cd7db4c2-0e17-4f57-b228-37b0aada2e8c",
   "metadata": {},
   "source": [
    "**Q2:** Using feature engineering, create a new feature in the Titanic dataset called `Parch_cat` that categorizes individuals as having no parents or children with them on board (`Parch = 0`) or as having parents and/or children with them on board (`Parch > 0`).  How many passengers had at least one parent or child with them on the Titanic?"
   ]
  },
  {
   "cell_type": "markdown",
   "id": "518ca422-cff8-42d4-8f14-f3480dfe73f8",
   "metadata": {},
   "source": [
    "**A2:** "
   ]
  },
  {
   "cell_type": "markdown",
   "id": "d1123651-a6e4-4d82-af04-62861d0a098c",
   "metadata": {},
   "source": [
    "**Q3:** Using feature engineering, create a new feature in the Titanic dataset called `SibSp_cat` that categorizes individuals as having no siblings or spouse with them on board (`SibSp' = 0`) or as having siblings and/or a spouse with them on board (`SibSp > 0`).  How many passengers had at least one sibling or a spouse with them on the Titanic?"
   ]
  },
  {
   "cell_type": "markdown",
   "id": "b0f39fa5-b8c6-4590-b379-ce6435aee05e",
   "metadata": {
    "tags": []
   },
   "source": [
    "**A3:** "
   ]
  },
  {
   "cell_type": "markdown",
   "id": "112c8bfb-f72e-4462-913b-06ade93c60af",
   "metadata": {},
   "source": [
    "**Q4:** Using a crosstabulation, compare the percent of individuals with sibings and/or a spouse on board who survived to the percent of individuals without siblings and/or a spouse on board who survived. (Hint: we are comparing the conditional distributions).  Which group was more likely to surivive? "
   ]
  },
  {
   "cell_type": "markdown",
   "id": "02e701d7-ebc8-433a-8e7b-14deb360657d",
   "metadata": {},
   "source": [
    "**A4:** "
   ]
  },
  {
   "cell_type": "markdown",
   "id": "dfaa6193-03a6-4eb4-81eb-f9125ae1bc4c",
   "metadata": {},
   "source": [
    "**Q5:** Create a visualization of the conditional distribution of surviving the sinking of the Titanic for those who had a sibling and/or spouse with them on board compared to those who did not have a sibling and/or spouse with them on board. Make sure to give your figure a title and clear axis and legend labels."
   ]
  },
  {
   "cell_type": "code",
   "execution_count": 1,
   "id": "0baba40d-8515-4af2-9fe2-912b34b4563a",
   "metadata": {
    "tags": []
   },
   "outputs": [],
   "source": [
    "#A5: "
   ]
  },
  {
   "cell_type": "markdown",
   "id": "4e51d453-dd27-49cb-908f-24df6c44da4c",
   "metadata": {},
   "source": [
    "**Q6:** Using feature engineering, create a new feature in the Titanic dataset called `Any_Family` that categorizes individuals as having no siblings or spouse or parents or children with them on board ( if `SibSp_cat = 0` and `Parch_cat = 0` then `Any_Family = 0`) or as having siblings and/or a spouse with them on board. How many passengers had no family members at all with them on the Titanic?"
   ]
  },
  {
   "cell_type": "markdown",
   "id": "d230d4e1-6e01-450b-9d79-a4e6405d43da",
   "metadata": {},
   "source": [
    "**A6:** "
   ]
  },
  {
   "cell_type": "markdown",
   "id": "5a070f4d-d296-4da9-9869-aa73d0e51df6",
   "metadata": {},
   "source": [
    "**Q7:** Create a visualization of the conditional distribution of surviving the sinking of the Titanic for those who had any family with them on board compared to those who did not have any with them on board. Make sure to give your figure a title and clear axis and legend labels."
   ]
  },
  {
   "cell_type": "code",
   "execution_count": 2,
   "id": "cddbbb50-49b7-4fb3-beea-80fd0ae4a126",
   "metadata": {
    "tags": []
   },
   "outputs": [],
   "source": [
    "#A7: "
   ]
  },
  {
   "cell_type": "markdown",
   "id": "037c31e7-1b89-4632-af49-e306b26fe1f2",
   "metadata": {},
   "source": [
    "**Q8:** Re-run your previous plot using one of the Matplotlib graphics styles introduced in the lecture.  Identify one thing about that graphics style that you like better than the default style and one thing about that graphics style that you do not like as well."
   ]
  },
  {
   "cell_type": "markdown",
   "id": "3c131022-1730-441a-961c-8a6426c3b572",
   "metadata": {},
   "source": [
    "**A8:** "
   ]
  },
  {
   "cell_type": "markdown",
   "id": "9e0174a9-2d79-4019-ae00-1b10cdf84357",
   "metadata": {},
   "source": [
    "**Q9:** In your own words, describe how an A/B test is used."
   ]
  },
  {
   "cell_type": "markdown",
   "id": "6dd90539-bc47-4cbf-a563-a6d8b905ed95",
   "metadata": {},
   "source": [
    "**A9:** "
   ]
  },
  {
   "cell_type": "markdown",
   "id": "36c8f3c0-4c09-4166-a034-37d390f21e2b",
   "metadata": {},
   "source": [
    "**Q10:** Identify an example of a visualization of the relationship between two categorical features that we have not covered in class. (An example of a Venn Diagram is fine - just not the same Venn Diagram that's in the class notebook). You can upload an image, provide a link to an image on the internet, or create your own visualization."
   ]
  },
  {
   "cell_type": "markdown",
   "id": "02e3ad02-ae5d-4d53-a037-47fed06371d3",
   "metadata": {},
   "source": [
    "**A10:** "
   ]
  }
 ],
 "metadata": {
  "kernelspec": {
   "display_name": "Python 3 (ipykernel)",
   "language": "python",
   "name": "python3"
  },
  "language_info": {
   "codemirror_mode": {
    "name": "ipython",
    "version": 3
   },
   "file_extension": ".py",
   "mimetype": "text/x-python",
   "name": "python",
   "nbconvert_exporter": "python",
   "pygments_lexer": "ipython3",
   "version": "3.11.4"
  }
 },
 "nbformat": 4,
 "nbformat_minor": 5
}
