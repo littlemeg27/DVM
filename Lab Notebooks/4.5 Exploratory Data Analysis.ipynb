{
 "cells": [
  {
   "cell_type": "markdown",
   "id": "7790bbd4-0d2e-4350-876f-eff8271cea4e",
   "metadata": {},
   "source": [
    "# Lab Instructions\n",
    "\n",
    "Complete your lab by answering questions below.  Feel free to add more code and text blocks as necessary.  Make sure that your answer is obvious.  Show your work on programming questions. The more you show, the more credit you can earn.  \n",
    "\n",
    "Zip the completed file and upload it to submit.  \n",
    "\n",
    "Questions will be graded using the rubric attached to the assignment."
   ]
  },
  {
   "cell_type": "markdown",
   "id": "425a1154-afc0-4148-8e92-31edce237c4e",
   "metadata": {},
   "source": [
    "**Q1:** The `used_cars.csv` dataset contains information on a variety of used cars and can be used to develop machine learning models that predict the price of a used car from other features.  Import the Used Cars Dataset using `df = pd.read_csv('used_cars.csv', low_memory=False)`.  Print the top 5 rows"
   ]
  },
  {
   "cell_type": "code",
   "execution_count": 1,
   "id": "a967b184-e363-456f-8f3b-b122e350def2",
   "metadata": {
    "tags": []
   },
   "outputs": [],
   "source": [
    "#A1:\n"
   ]
  },
  {
   "cell_type": "markdown",
   "id": "2f8e7e23-aea3-4557-a573-5c937be7e4e9",
   "metadata": {},
   "source": [
    "**Q2:** Visualize the missing values in the dataset.  Which feature(s) have missing data?  "
   ]
  },
  {
   "cell_type": "code",
   "execution_count": 2,
   "id": "31eaa986-7ed7-45cb-9b5d-d5797d027c58",
   "metadata": {
    "tags": []
   },
   "outputs": [],
   "source": [
    "#A2:\n",
    "\n"
   ]
  },
  {
   "cell_type": "markdown",
   "id": "c392ccb9-ba14-4d0b-b4dc-5b5e1cb5841d",
   "metadata": {},
   "source": [
    "**A2:** "
   ]
  },
  {
   "cell_type": "markdown",
   "id": "12acd8a4-928e-4405-a131-2ba6bee99dd2",
   "metadata": {},
   "source": [
    "**Q3:** Create a side-by-side boxplot that shows the difference in `price` for used cars that have been and have not been involved in an accident (`accident`).  Make sure to give your figure a title and axis labels."
   ]
  },
  {
   "cell_type": "code",
   "execution_count": 3,
   "id": "d9ab7b68-a384-4330-84a1-8574d574bdc0",
   "metadata": {
    "tags": []
   },
   "outputs": [],
   "source": [
    "#A3:\n",
    "\n",
    "\n"
   ]
  },
  {
   "cell_type": "markdown",
   "id": "acc14ca0-0d61-4bb9-afad-3f6970178a45",
   "metadata": {},
   "source": [
    "**Q4:** Create an overlaid histogram showing the the difference in `price` for used cars that have been and have not been involved in an accident (`accident`).  "
   ]
  },
  {
   "cell_type": "code",
   "execution_count": 4,
   "id": "40d5c278-d559-4ac8-9f54-24bf5876b913",
   "metadata": {
    "tags": []
   },
   "outputs": [],
   "source": [
    "#A4:\n"
   ]
  },
  {
   "cell_type": "markdown",
   "id": "1981e196-3cf0-4576-bdc4-1b08034a38ed",
   "metadata": {},
   "source": [
    "**Q5:** In your own words, using the two figures you just created, make two observations about the difference in price for used cars with and without a history of an accident."
   ]
  },
  {
   "cell_type": "markdown",
   "id": "c7923a7c-4c40-4a9c-990c-191cf424f840",
   "metadata": {},
   "source": [
    "**A5:** "
   ]
  },
  {
   "cell_type": "markdown",
   "id": "aa41d755-62fc-4ca4-87b9-dd8cb94c20bf",
   "metadata": {},
   "source": [
    "**Q6:** Plot the relationship between `mileage` on the x-axis and and `price` on the y-axis using a scatterplot.  Make sure to include a title and axis labels."
   ]
  },
  {
   "cell_type": "code",
   "execution_count": 5,
   "id": "82f6f643-a080-4d27-ad0c-254b1d2606f5",
   "metadata": {
    "tags": []
   },
   "outputs": [],
   "source": [
    "#A6:\n"
   ]
  },
  {
   "cell_type": "markdown",
   "id": "9215fb1d-cdac-4354-aa9b-555b87ab2102",
   "metadata": {
    "tags": []
   },
   "source": [
    "**Q7:** Describe - in your own words - the relationship between `mileage` and `price`."
   ]
  },
  {
   "cell_type": "markdown",
   "id": "bb4503c3-ffee-4c7f-bda6-2672249b4895",
   "metadata": {},
   "source": [
    "**A7:**  "
   ]
  },
  {
   "cell_type": "markdown",
   "id": "d834ca44-a8d1-48af-8fcd-86304db90471",
   "metadata": {},
   "source": [
    "**Q8:** Would a linear model be a good way to describe the relationship in the scatterplot?  Why or why not?"
   ]
  },
  {
   "cell_type": "markdown",
   "id": "a4b5e488-252e-44bf-8fc7-3f607f2e9d2c",
   "metadata": {},
   "source": [
    "**A8:** "
   ]
  },
  {
   "cell_type": "markdown",
   "id": "0be9edf3-fa8c-4a2b-b3d0-8998374ce5b2",
   "metadata": {},
   "source": [
    "**Q9:** Make one more visualization showing the relationship between at least two features in the used car dataset.  Be sure that your figure is clearly labeled."
   ]
  },
  {
   "cell_type": "markdown",
   "id": "b29b6ccb-56a7-4f5c-8637-2849cd43c58d",
   "metadata": {},
   "source": [
    "**A9:** "
   ]
  },
  {
   "cell_type": "markdown",
   "id": "2451b11c-e6fa-49fa-927b-15759479a2b4",
   "metadata": {},
   "source": [
    "**Q10:** In your own words, describe at least one observation about the relationship shown in your previous visualization."
   ]
  },
  {
   "cell_type": "markdown",
   "id": "8e3d3e83-3051-4299-91c9-ffbf68e28b69",
   "metadata": {},
   "source": [
    "**A10:** "
   ]
  }
 ],
 "metadata": {
  "kernelspec": {
   "display_name": "Python 3 (ipykernel)",
   "language": "python",
   "name": "python3"
  },
  "language_info": {
   "codemirror_mode": {
    "name": "ipython",
    "version": 3
   },
   "file_extension": ".py",
   "mimetype": "text/x-python",
   "name": "python",
   "nbconvert_exporter": "python",
   "pygments_lexer": "ipython3",
   "version": "3.11.4"
  }
 },
 "nbformat": 4,
 "nbformat_minor": 5
}
