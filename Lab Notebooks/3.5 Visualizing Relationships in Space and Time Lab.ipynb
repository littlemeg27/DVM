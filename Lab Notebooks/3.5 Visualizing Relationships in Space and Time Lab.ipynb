{
 "cells": [
  {
   "cell_type": "markdown",
   "id": "7790bbd4-0d2e-4350-876f-eff8271cea4e",
   "metadata": {},
   "source": [
    "# Lab Instructions\n",
    "\n",
    "Complete your lab by answering questions below.  Feel free to add more code and text blocks as necessary.  Make sure that your answer is obvious.  Show your work on programming questions. The more you show, the more credit you can earn.  \n",
    "\n",
    "Zip the completed file and upload it to submit.  \n",
    "\n",
    "Questions will be graded using the rubric attached to the assignment."
   ]
  },
  {
   "cell_type": "markdown",
   "id": "425a1154-afc0-4148-8e92-31edce237c4e",
   "metadata": {},
   "source": [
    "**Q1:** Identify a display of spatial and/or time data.  You can paste a link or screen shot below or create your own."
   ]
  },
  {
   "cell_type": "markdown",
   "id": "44dce3fb-7956-4777-ab0b-355e6a02f0bf",
   "metadata": {},
   "source": [
    "**A1:** "
   ]
  },
  {
   "cell_type": "markdown",
   "id": "2f8e7e23-aea3-4557-a573-5c937be7e4e9",
   "metadata": {},
   "source": [
    "**Q2:** Describe - in your own words - two interesting observations about the data being visualized in the display you selected for Q1."
   ]
  },
  {
   "cell_type": "markdown",
   "id": "c392ccb9-ba14-4d0b-b4dc-5b5e1cb5841d",
   "metadata": {},
   "source": [
    "**A2:** "
   ]
  },
  {
   "cell_type": "markdown",
   "id": "12acd8a4-928e-4405-a131-2ba6bee99dd2",
   "metadata": {},
   "source": [
    "**Q3:** Read in the California Housing data using `df = pd.read_csv('housing.csv', encoding='ISO-8859-1')` and print the first 5 rows to get a sense of the features in the dataset and their possible values.  This data was taken from the 1990 census, so the home price data is out of date.  "
   ]
  },
  {
   "cell_type": "code",
   "execution_count": null,
   "id": "d9ab7b68-a384-4330-84a1-8574d574bdc0",
   "metadata": {
    "tags": []
   },
   "outputs": [],
   "source": [
    "#A3:\n"
   ]
  },
  {
   "cell_type": "markdown",
   "id": "acc14ca0-0d61-4bb9-afad-3f6970178a45",
   "metadata": {},
   "source": [
    "**Q4:** How does the housing market in California differ by region and how has it changed over time? \n",
    "\n",
    "Fill in the code below to visualize the location of each house (`latitude` and `longitude`) in the dataset.  Remember to give your visualization an appropriate title."
   ]
  },
  {
   "cell_type": "code",
   "execution_count": null,
   "id": "252cad89-05b7-4127-9ab2-9592698ea4ab",
   "metadata": {},
   "outputs": [],
   "source": [
    "#A4:\n",
    "\n",
    "fig = px.scatter_mapbox(df, \n",
    "                        lat=\n",
    "                        lon= \n",
    "                        size_max=7, \n",
    "                        zoom=3, \n",
    "                        mapbox_style=\"carto-positron\",  \n",
    "                        title= \n",
    "                       )\n",
    "\n",
    "# Display the plot\n",
    "fig.show()"
   ]
  },
  {
   "cell_type": "markdown",
   "id": "1981e196-3cf0-4576-bdc4-1b08034a38ed",
   "metadata": {},
   "source": [
    "**Q5:** Add color to the visualization to identify houses by `ocean_proximity` and use the `size=` parameter to show differences in `median_house_value`."
   ]
  },
  {
   "cell_type": "code",
   "execution_count": null,
   "id": "118666f7-ee1b-4973-9fcb-7f4d8334c994",
   "metadata": {
    "tags": []
   },
   "outputs": [],
   "source": [
    "#A5:\n",
    "fig = px.scatter_mapbox(df, \n",
    "                        lat=\n",
    "                        lon=\n",
    "                        size=\n",
    "                        color=\n",
    "                        size_max=7, \n",
    "                        zoom=3, \n",
    "                        mapbox_style=\"carto-positron\",  \n",
    "                        title=\n",
    "                       )\n",
    "\n",
    "fig.show()"
   ]
  },
  {
   "cell_type": "markdown",
   "id": "aa41d755-62fc-4ca4-87b9-dd8cb94c20bf",
   "metadata": {},
   "source": [
    "**Q6:** The feature `housing_median_age` indicates how old the houses in that area are.  Sort the dataframe so that it is on order from the oldest house to the newest house (`ascending = False`) and add `housing_median_age` as an animation frame."
   ]
  },
  {
   "cell_type": "code",
   "execution_count": null,
   "id": "1adf1caf-a3cd-47fd-9fbe-d6552322da4e",
   "metadata": {},
   "outputs": [],
   "source": [
    "#A6:\n",
    "\n",
    "#Sort values\n",
    "\n",
    "#Figure\n",
    "fig = px.scatter_mapbox(df, \n",
    "                        lat= \n",
    "                        lon=\n",
    "                        size=\n",
    "                        animation_frame=\n",
    "                        color=\n",
    "                        size_max=7, \n",
    "                        zoom=3, \n",
    "                        mapbox_style=\"carto-positron\",  \n",
    "                        title=\n",
    "                       )\n",
    "\n",
    "\n",
    "# Display the plot\n",
    "fig.show()"
   ]
  },
  {
   "cell_type": "markdown",
   "id": "9215fb1d-cdac-4354-aa9b-555b87ab2102",
   "metadata": {
    "tags": []
   },
   "source": [
    "**Q7:** Describe - in your own words - two interesting observations about how housing prices in California differ over time and by location."
   ]
  },
  {
   "cell_type": "markdown",
   "id": "bb4503c3-ffee-4c7f-bda6-2672249b4895",
   "metadata": {},
   "source": [
    "**A7:**  "
   ]
  },
  {
   "cell_type": "markdown",
   "id": "d834ca44-a8d1-48af-8fcd-86304db90471",
   "metadata": {},
   "source": [
    "**Q8:** Read in the Yelp review data using `df = pd.read_csv('yelp_subset.csv', encoding='ISO-8859-1')`. \n",
    "\n",
    "Create a subset of the Yelp data that only includes records from the greater Phoenix area (`state == 'AZ'`).  Call this subset `Arizona` and print the first 5 rows."
   ]
  },
  {
   "cell_type": "code",
   "execution_count": null,
   "id": "aec173a4-7886-4007-881f-5002524125a5",
   "metadata": {
    "tags": []
   },
   "outputs": [],
   "source": [
    "#A8:\n"
   ]
  },
  {
   "cell_type": "markdown",
   "id": "0be9edf3-fa8c-4a2b-b3d0-8998374ce5b2",
   "metadata": {},
   "source": [
    "**Q9:** Plot the `latitude` and `longitude` of each review in the Arizona Yelp data subset and then use at least one other feature of Plotly Express (`size = `, `color = `, `animation_frame = `, etc.) to illustrate something interesting about a relationship in the Arizona Yelp reviews data.  **Hint - Make sure to use the Arizona dataframe above**"
   ]
  },
  {
   "cell_type": "code",
   "execution_count": null,
   "id": "9035675d-6132-4f4d-8deb-7aff2a8cd3cf",
   "metadata": {
    "tags": []
   },
   "outputs": [],
   "source": [
    "#A9:\n",
    "fig = px.scatter_mapbox(df= \n",
    "                        lat=\n",
    "                        lon=\n",
    "                        #use other feature here\n",
    "                        mapbox_style=\"carto-positron\",\n",
    "                        title=\n",
    "                       )\n",
    "\n",
    "\n",
    "# Display the plot\n",
    "fig.show()"
   ]
  },
  {
   "cell_type": "markdown",
   "id": "2451b11c-e6fa-49fa-927b-15759479a2b4",
   "metadata": {},
   "source": [
    "**Q10:** In your own words, describe the relationship you have visualized in Q9."
   ]
  },
  {
   "cell_type": "markdown",
   "id": "8e3d3e83-3051-4299-91c9-ffbf68e28b69",
   "metadata": {},
   "source": [
    "**A10:**"
   ]
  }
 ],
 "metadata": {
  "kernelspec": {
   "display_name": "Python 3 (ipykernel)",
   "language": "python",
   "name": "python3"
  },
  "language_info": {
   "codemirror_mode": {
    "name": "ipython",
    "version": 3
   },
   "file_extension": ".py",
   "mimetype": "text/x-python",
   "name": "python",
   "nbconvert_exporter": "python",
   "pygments_lexer": "ipython3",
   "version": "3.11.4"
  }
 },
 "nbformat": 4,
 "nbformat_minor": 5
}
