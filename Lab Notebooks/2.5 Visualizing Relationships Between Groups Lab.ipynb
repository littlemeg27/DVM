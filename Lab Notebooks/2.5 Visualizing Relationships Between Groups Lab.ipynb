{
 "cells": [
  {
   "cell_type": "markdown",
   "id": "28c93a12-5d6b-4ec2-8f55-ae8041395903",
   "metadata": {},
   "source": [
    "# Lab Instructions\n",
    "\n",
    "Complete your lab by answering questions below.  Feel free to add more code and text blocks as necessary.  Make sure that your answer is obvious.  Show your work on programming questions. The more you show, the more credit you can earn.  \n",
    "\n",
    "Zip the completed file and upload it to submit.  \n",
    "\n",
    "Questions will be graded using the rubric attached to the assignment."
   ]
  },
  {
   "cell_type": "markdown",
   "id": "425a1154-afc0-4148-8e92-31edce237c4e",
   "metadata": {},
   "source": [
    "**Q1:** Take some time to explore datasets that you might be interested in using for your research project.  Paste a link to three datasets you are considering in the space below along with a short (one sentence) description of each."
   ]
  },
  {
   "cell_type": "markdown",
   "id": "44dce3fb-7956-4777-ab0b-355e6a02f0bf",
   "metadata": {},
   "source": [
    "**A1:** "
   ]
  },
  {
   "cell_type": "markdown",
   "id": "2f8e7e23-aea3-4557-a573-5c937be7e4e9",
   "metadata": {},
   "source": [
    "**Q2:** Select one of the datasets you are interested in and write down two questions you could answer using that dataset by creating a visualization.  You don't know to know what kind of visualization you will use yet or commit to answering these questions for your project.  I just want you to start thinking about what you might decide to do."
   ]
  },
  {
   "cell_type": "markdown",
   "id": "c392ccb9-ba14-4d0b-b4dc-5b5e1cb5841d",
   "metadata": {},
   "source": [
    "**A2:** "
   ]
  },
  {
   "cell_type": "markdown",
   "id": "90977056-80f3-45e2-9991-c62fb9353aa5",
   "metadata": {},
   "source": [
    "**Q3:** Import the Titanic data using `df = pd.read_csv('titanic_passengers.csv')`.  Create an overlaid histogram of passenger age (`Age`) in passengers who did and did not survive (`Survived`). Make sure that your figure is clearly labeled with a title and axis labels."
   ]
  },
  {
   "cell_type": "code",
   "execution_count": 1,
   "id": "4466417e-ae52-4ff4-94cc-4281a282c7ac",
   "metadata": {
    "tags": []
   },
   "outputs": [],
   "source": [
    "#A3:\n"
   ]
  },
  {
   "cell_type": "markdown",
   "id": "acc14ca0-0d61-4bb9-afad-3f6970178a45",
   "metadata": {},
   "source": [
    "**Q4:** Create a side-by-side boxplot comparing the age (`Age`) of those who survived and did not survive (`Survived`) the sinking of the Titanic.  Note that Seaborn is expecting the data type of the feature used to designate groups to be an object (not a string or int) so you may need to do some feature engineering.  Make sure that your figure has a title and approrpriate axis labels.  "
   ]
  },
  {
   "cell_type": "code",
   "execution_count": 2,
   "id": "252cad89-05b7-4127-9ab2-9592698ea4ab",
   "metadata": {},
   "outputs": [],
   "source": [
    "#A4:\n"
   ]
  },
  {
   "cell_type": "markdown",
   "id": "e83a027e-65fc-4e1e-b0a7-0894da08e50c",
   "metadata": {},
   "source": [
    "**Q5:** Using the overlaid histogram and side-by-side boxplot, make two observations about the difference in age (`Age`) for passengers who did and did not survive (`Survived`)."
   ]
  },
  {
   "cell_type": "markdown",
   "id": "9dbe703f-6fdd-4bc8-a98c-4a07484c8133",
   "metadata": {},
   "source": [
    "**A5:** "
   ]
  },
  {
   "cell_type": "markdown",
   "id": "3b9b8769-dee8-479f-930f-032512d24ed9",
   "metadata": {},
   "source": [
    "**Q6:** Create an overlaid histogram of fare (`Fare`) paid by passengers from each of the three ports of departure (`Embarked`) (`S` = Southampton, `Q` = Queenstown, `C` = Cherbourg). Make sure that your figure is clearly labeled with a title and axis labels."
   ]
  },
  {
   "cell_type": "code",
   "execution_count": 3,
   "id": "8ae52be8-16bc-4bb6-922e-c6e905910d7f",
   "metadata": {},
   "outputs": [],
   "source": [
    "#A6:\n"
   ]
  },
  {
   "cell_type": "markdown",
   "id": "1981e196-3cf0-4576-bdc4-1b08034a38ed",
   "metadata": {},
   "source": [
    "**Q7:** Create an side-by-side boxplot of fare (`Fare`) paid by passengers from each of the three ports of departure (`Embarked`) (`S` = Southampton, `Q` = Queenstown, `C` = Cherbourg). Make sure that your figure is clearly labeled with a title and axis labels."
   ]
  },
  {
   "cell_type": "code",
   "execution_count": 4,
   "id": "089102b2-4151-47c8-8e5a-b9eee4251591",
   "metadata": {
    "tags": []
   },
   "outputs": [],
   "source": [
    "#A7:\n"
   ]
  },
  {
   "cell_type": "markdown",
   "id": "aa41d755-62fc-4ca4-87b9-dd8cb94c20bf",
   "metadata": {},
   "source": [
    "**Q8:** Using the overlaid histogram and side-by-side boxplot, make two observations about the difference in fare paid (`Fare`) by passengers who departed from the three ports (`Embarked`). "
   ]
  },
  {
   "cell_type": "markdown",
   "id": "9215fb1d-cdac-4354-aa9b-555b87ab2102",
   "metadata": {
    "tags": []
   },
   "source": [
    "**A8:** "
   ]
  },
  {
   "cell_type": "markdown",
   "id": "d834ca44-a8d1-48af-8fcd-86304db90471",
   "metadata": {},
   "source": [
    "**Q9:** In your own words - based on our discussions in class - list one aspect of the distribution of a feature (like the mean, mode, skew, outliers, etc.) that is easier to observe from a histogram and one aspect of the distribution of a feature that is easier to observe from a boxplot."
   ]
  },
  {
   "cell_type": "markdown",
   "id": "d03abe24-bbbb-4048-a1bd-3b0e4c07b255",
   "metadata": {},
   "source": [
    "**Q9:** "
   ]
  },
  {
   "cell_type": "markdown",
   "id": "359d10b0-60b8-49cf-b972-108e74e1e3bc",
   "metadata": {},
   "source": [
    "**Q10:** Peruse the Wikipedia article on John Tukey (https://en.wikipedia.org/wiki/John_Tukey) and - in your own words - describe two things about his work in data and computuer science that we did not discuss in class."
   ]
  },
  {
   "cell_type": "markdown",
   "id": "0be9edf3-fa8c-4a2b-b3d0-8998374ce5b2",
   "metadata": {},
   "source": [
    "**Q10:** "
   ]
  }
 ],
 "metadata": {
  "kernelspec": {
   "display_name": "Python 3 (ipykernel)",
   "language": "python",
   "name": "python3"
  },
  "language_info": {
   "codemirror_mode": {
    "name": "ipython",
    "version": 3
   },
   "file_extension": ".py",
   "mimetype": "text/x-python",
   "name": "python",
   "nbconvert_exporter": "python",
   "pygments_lexer": "ipython3",
   "version": "3.11.4"
  }
 },
 "nbformat": 4,
 "nbformat_minor": 5
}
