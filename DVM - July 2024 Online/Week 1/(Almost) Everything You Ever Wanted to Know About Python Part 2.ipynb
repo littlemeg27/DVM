{
 "cells": [
  {
   "cell_type": "markdown",
   "metadata": {},
   "source": [
    "# More Python!\n",
    "Last time was enough to get you off the ground, this notebook has a collection of things I think are interesting and are useful.  This will certainly go beyond what you will need to complete anything in this course, but all of it could come in handy.\n",
    "\n",
    "## Strings\n",
    "Often we will need to manipulate, clean up, or chop up strings.  Strip is a great function for cleaning up a string, by default it will remove all whitespace from the left or right side of the string.  If anything is passed to the strip function it will remove those items instead.  We haven't talked about containers yet, so assume split returns an array like structure willed with strings, be default it uses whitespace to seperate the input string."
   ]
  },
  {
   "cell_type": "code",
   "execution_count": 14,
   "metadata": {},
   "outputs": [
    {
     "name": "stdout",
     "output_type": "stream",
     "text": [
      "What is bravery, without a dash of recklessness\n",
      "What is bravery, without a dash of REDACTED\n",
      "['What', 'is', 'bravery,', 'without', 'a', 'dash', 'of', 'REDACTED']\n",
      "What***is***bravery,***without***a***dash***of***REDACTED\n"
     ]
    }
   ],
   "source": [
    "giant = \"***      What is bravery, without a dash of recklessness     ***\"\n",
    "trim = giant.strip('* ')\n",
    "print(trim)\n",
    "\n",
    "redact = trim.replace(\"recklessness\", \"REDACTED\")\n",
    "print(redact)\n",
    "\n",
    "words = redact.split()\n",
    "print(words)\n",
    "\n",
    "words = '***'.join(words)\n",
    "print(words)"
   ]
  },
  {
   "cell_type": "markdown",
   "metadata": {},
   "source": [
    "## List\n",
    "Lets revist the splice operator, as we've seen it can give us a subset of anything that is iterable.  We can also use it to insert and replace parts of something that is iterable as well, this is useful if we want to edit what we have instead of continually making new containers.  Remember the range function returns a range object, so if we want a list we must use the list function to convert it."
   ]
  },
  {
   "cell_type": "code",
   "execution_count": 15,
   "metadata": {},
   "outputs": [
    {
     "name": "stdout",
     "output_type": "stream",
     "text": [
      "[0, True, False, 3, 4]\n",
      "[0, 1, 2, 3, 4, 5, 6]\n"
     ]
    }
   ],
   "source": [
    "var1 = list(range(5))\n",
    "# we can also use it to insert something in place\n",
    "var1[1:3] = [True, False]\n",
    "print(var1)\n",
    "\n",
    "var2 = var1\n",
    "var1[:] = list(range(7))\n",
    "print(var2)"
   ]
  },
  {
   "cell_type": "markdown",
   "metadata": {},
   "source": [
    "In other languages the basic types will impicitly convert to bool if you use them with conditionals, in python we can do this with containers as well."
   ]
  },
  {
   "cell_type": "code",
   "execution_count": 16,
   "metadata": {},
   "outputs": [
    {
     "name": "stdout",
     "output_type": "stream",
     "text": [
      "got nothin\n"
     ]
    }
   ],
   "source": [
    "some_list = []\n",
    "# if len(some_list) > 0: not beautiful\n",
    "if some_list:\n",
    "    print('got some stuff')\n",
    "else:\n",
    "    print('got nothin')"
   ]
  },
  {
   "cell_type": "markdown",
   "metadata": {},
   "source": [
    "## Tuple\n",
    "A tuple is an immutable collection of Python objects, similar to a list.  Tuples are useful when you want to bundle related data into a single object without creating a class.  This can help your code to be more orgnized, it can also declutter a function's argument list.\n",
    "\n",
    "Since a tuple is a collection all of the idiomatic functions that work on a list (len, splice, sum, etc) will work as well.  Using tuple packing/unpacking can also help with out of order updates and allows for high level thinking."
   ]
  },
  {
   "cell_type": "code",
   "execution_count": 17,
   "metadata": {},
   "outputs": [
    {
     "name": "stdout",
     "output_type": "stream",
     "text": [
      "(100, 200, -100)\n",
      "My z value is:  -100\n"
     ]
    }
   ],
   "source": [
    "pos = (100, 200, -100)\n",
    "print(pos)\n",
    "print(f'My z value is:  {pos[-1]}')\n",
    "x, y, z = pos"
   ]
  },
  {
   "cell_type": "markdown",
   "metadata": {},
   "source": [
    "## Is and ID\n",
    "Another type of equivalency we can check for in python is too see if two different variables are referencing the same memory behind the scenes.  Remember python variables are not symbolic references to memory addresses, they are more like labels you use to point to data.  To determine if two variables are actually pointing to the same thing you can use the is operator."
   ]
  },
  {
   "cell_type": "code",
   "execution_count": 18,
   "metadata": {},
   "outputs": [
    {
     "name": "stdout",
     "output_type": "stream",
     "text": [
      "True\n",
      "False\n",
      "2618269705648\n"
     ]
    }
   ],
   "source": [
    "x = 'abc'\n",
    "y = 'abc'\n",
    "print(x is y)\n",
    "\n",
    "x += 'def'\n",
    "print(x is y)\n",
    "\n",
    "print(id(x))"
   ]
  },
  {
   "cell_type": "markdown",
   "metadata": {},
   "source": [
    "In python we care more about duck typing, but it can sometimes be useful to to confirm what the type of a variable is.  Previously we used the type function to just output this, but we can also use the isinstance function with conditionals to structure our code."
   ]
  },
  {
   "cell_type": "code",
   "execution_count": 19,
   "metadata": {},
   "outputs": [
    {
     "name": "stdout",
     "output_type": "stream",
     "text": [
      "NOW YOU'RE PLAYING WITH POWER, PYTHON POWER\n",
      "18\n"
     ]
    }
   ],
   "source": [
    "x = 'rockin stone!'\n",
    "if isinstance(x, str):\n",
    "    print(len(x))\n",
    "else:\n",
    "    print('yikes not a string!')"
   ]
  },
  {
   "cell_type": "markdown",
   "metadata": {},
   "source": [
    "## Looping\n",
    "Break and continue also work with Python loops.  For loops can have an else statement which is called if the loops exits normally (not through a break).  This might look weird, but if you think about the for loop has an if inside of it, this is why it continues to loop or quit."
   ]
  },
  {
   "cell_type": "code",
   "execution_count": 20,
   "metadata": {},
   "outputs": [
    {
     "name": "stdout",
     "output_type": "stream",
     "text": [
      "the dude\n"
     ]
    }
   ],
   "source": [
    "the_dude = None\n",
    "names = [\"gwyn\", \"nito\", \"pinwheel\"]\n",
    "for name in names:\n",
    "    if name == 'some dude': # change to nito\n",
    "        the_dude = name\n",
    "        break\n",
    "else:\n",
    "    the_dude = 'the dude'\n",
    "print(the_dude)"
   ]
  },
  {
   "cell_type": "markdown",
   "metadata": {},
   "source": [
    "# Scope\n",
    "Variables created outside of functions are called module or global level variables, to access these in a function use the global keyword.  If you're not careful with this it can cause some hard to track problems.  If python is only reading a variable it will try to find the variable in all available scopes, if a variable is being assigned it assumes it is local."
   ]
  },
  {
   "cell_type": "code",
   "execution_count": 21,
   "metadata": {},
   "outputs": [],
   "source": [
    "x = 0\n",
    "\n",
    "# without global, will create a local x and assign\n",
    "def change_global():\n",
    "    global x\n",
    "    x = 100\n",
    "\n",
    "# assumes local, will generate an error since x does not exist\n",
    "def change_local():\n",
    "    x += 1\n",
    "\n",
    "# only reading so python will look in the global scope\n",
    "def test():\n",
    "    print(x)"
   ]
  },
  {
   "cell_type": "markdown",
   "metadata": {},
   "source": [
    "## The Main Function\n",
    "When a module is executed (or imported) the special variable name is created with the name of the file, the exception for this is the file currently being executed which gets set to main.  This is useful so we can have a file that we intend to be imported, but it could also be executed as well."
   ]
  },
  {
   "cell_type": "code",
   "execution_count": 22,
   "metadata": {},
   "outputs": [],
   "source": [
    "# pass is simply an ignored line\n",
    "def main():\n",
    "    pass\n",
    "\n",
    "if __name__ == '__main__':\n",
    "    main()\n",
    "else:\n",
    "    print('just being imported!')"
   ]
  },
  {
   "cell_type": "markdown",
   "metadata": {},
   "source": [
    "# Classes\n",
    "Python supports OOP classes including inheritance. Something Python doesn't support is encapsulation, member variables and functions are all public.  If a programmer needs access to something, why stop them?  This also negates the need for a get/set for every variable.  If you want to strongly suggest that a member should not be touched, put an underscore at the end or beginining of the name.  We can also add members to a python class at any time, this is done by adding them to an internal \\_\\_dict__ that every class has (objects do not have this attribute).\n",
    "\n",
    "Take note of the special functions \\_\\_init__ (the constructor) and \\_\\_str__ (called when object is printed).  Also note that each class function must take in a reference to self, this is similar to the this pointer in c++.  We must manually insert this when writing our classes since this class will be interpeted, not compiled.  For this same reason, whenever we access that variable we must do it through the self reference.\n",
    "\n",
    "Since Python creates variables for us when we need, in \\_\\_init__ you just list out the variables you need.  If you create a variable in the body of the class (static_var in the example), then all instances of the class will share that single variable."
   ]
  },
  {
   "cell_type": "code",
   "execution_count": 23,
   "metadata": {},
   "outputs": [
    {
     "name": "stdout",
     "output_type": "stream",
     "text": [
      "I am going 55 MPH!\n"
     ]
    }
   ],
   "source": [
    "class Car:\n",
    "    '''\n",
    "    i'm a car vroom!\n",
    "    '''\n",
    "    _static_var = \"meh\"\n",
    "    \n",
    "    def __init__(self):\n",
    "        self.mph = 0\n",
    "        \n",
    "    def __str__(self):\n",
    "        return \"I am going {} MPH!\".format(self.mph)\n",
    "    \n",
    "    def drive(self, speed):\n",
    "        self.mph += speed\n",
    "        \n",
    "cx = Car()\n",
    "cx.drive(55)\n",
    "cx.remote_start = True\n",
    "if cx.remote_start:\n",
    "    print(cx)"
   ]
  },
  {
   "cell_type": "markdown",
   "metadata": {},
   "source": [
    "# Object Introspection\n",
    "One of the things that makes Python object incredibly powerful is the idea of object introspection, this is our ability to get information about a class at runtime. We've actually looked at this already a bit with both the type and id functions.  The *dir* function returns a list of attributes for an object, this lets us see every attribute defined in the class."
   ]
  },
  {
   "cell_type": "code",
   "execution_count": 24,
   "metadata": {},
   "outputs": [
    {
     "data": {
      "text/plain": [
       "['__class__',\n",
       " '__delattr__',\n",
       " '__dict__',\n",
       " '__dir__',\n",
       " '__doc__',\n",
       " '__eq__',\n",
       " '__format__',\n",
       " '__ge__',\n",
       " '__getattribute__',\n",
       " '__gt__',\n",
       " '__hash__',\n",
       " '__init__',\n",
       " '__init_subclass__',\n",
       " '__le__',\n",
       " '__lt__',\n",
       " '__module__',\n",
       " '__ne__',\n",
       " '__new__',\n",
       " '__reduce__',\n",
       " '__reduce_ex__',\n",
       " '__repr__',\n",
       " '__setattr__',\n",
       " '__sizeof__',\n",
       " '__str__',\n",
       " '__subclasshook__',\n",
       " '__weakref__',\n",
       " '_static_var',\n",
       " 'drive',\n",
       " 'mph',\n",
       " 'remote_start']"
      ]
     },
     "execution_count": 24,
     "metadata": {},
     "output_type": "execute_result"
    }
   ],
   "source": [
    "dir(cx)"
   ]
  },
  {
   "cell_type": "markdown",
   "metadata": {},
   "source": [
    "We can further this with the inspect namespace, it provides information about objects including: comments, functions, source code, and more."
   ]
  },
  {
   "cell_type": "code",
   "execution_count": 25,
   "metadata": {},
   "outputs": [
    {
     "data": {
      "text/plain": [
       "<module '__main__'>"
      ]
     },
     "execution_count": 25,
     "metadata": {},
     "output_type": "execute_result"
    }
   ],
   "source": [
    "import inspect\n",
    "\n",
    "inspect.getmodule(cx)"
   ]
  },
  {
   "cell_type": "markdown",
   "metadata": {},
   "source": [
    "# Generators\n",
    "Generators are a simple Python alternative to creating iterators (though you can still do this by creating a class and defining an iter and next function). We have actually used these already, the range function is a generator. To create a generator all you need to do is create a Python function and replace _return_ with the _yield_ keyword. What this does is return the value but it suspends the rest of the function in memory so that the next time the function is called it picks up where it left."
   ]
  },
  {
   "cell_type": "code",
   "execution_count": 26,
   "metadata": {},
   "outputs": [
    {
     "name": "stdout",
     "output_type": "stream",
     "text": [
      "1304226"
     ]
    }
   ],
   "source": [
    "import random as rnd\n",
    "\n",
    "def dial_digit():\n",
    "    for x in range(7):\n",
    "        yield rnd.randint(0, 9)\n",
    "        \n",
    "for num in dial_digit():\n",
    "    print(num, end='')"
   ]
  },
  {
   "cell_type": "markdown",
   "metadata": {},
   "source": [
    "# Decorators\n",
    "Python functions are actually objects, this allows us to over ride them by just replacing them."
   ]
  },
  {
   "cell_type": "code",
   "execution_count": 27,
   "metadata": {},
   "outputs": [
    {
     "name": "stdout",
     "output_type": "stream",
     "text": [
      "NOW YOU'RE PLAYING WITH POWER, PYTHON POWER\n",
      "5\n"
     ]
    }
   ],
   "source": [
    "import random as rnd\n",
    "\n",
    "def super_len(thing):\n",
    "    print(\"NOW YOU'RE PLAYING WITH POWER, PYTHON POWER\")\n",
    "    return rnd.randint(5, 25)\n",
    "\n",
    "items = [x for x in range(20)]\n",
    "\n",
    "len = super_len\n",
    "print(len(items))"
   ]
  },
  {
   "cell_type": "markdown",
   "metadata": {},
   "source": [
    "This allows us to use a technique called function decoration (or just decorators), and its essentially the ability to wrap a function inside another function to extend its functionality. This is useful when you have a common set of operations that you are going to do frequently. It is also common for modules to include decorators, when we get to Matplot we will see an example of this."
   ]
  },
  {
   "cell_type": "code",
   "execution_count": 1,
   "metadata": {},
   "outputs": [
    {
     "name": "stdout",
     "output_type": "stream",
     "text": [
      "***********\n",
      "I am boring\n",
      "I am boring\n",
      "***********\n",
      "***********\n",
      "Yuck me too\n",
      "Yuck me too\n",
      "***********\n"
     ]
    }
   ],
   "source": [
    "def call_twice_add_stars(func):\n",
    "    def call_func():\n",
    "        print('***********')\n",
    "        func()\n",
    "        func()\n",
    "        print('***********')\n",
    "    return call_func\n",
    "\n",
    "def func1():\n",
    "    print(\"I am boring\")\n",
    "\n",
    "def func2():\n",
    "    print(\"Yuck me too\")\n",
    "\n",
    "func1 = call_twice_add_stars(func1)\n",
    "func2 = call_twice_add_stars(func2)\n",
    "\n",
    "func1()\n",
    "func2()"
   ]
  },
  {
   "cell_type": "markdown",
   "metadata": {},
   "source": [
    "There is bit of syntax sugar we can use when creating a decorator to make the code more compact, the @ makes our function a decorated version immediately."
   ]
  },
  {
   "cell_type": "code",
   "execution_count": 3,
   "metadata": {},
   "outputs": [
    {
     "name": "stdout",
     "output_type": "stream",
     "text": [
      "***********\n",
      "I'm fresh\n",
      "I'm fresh\n",
      "***********\n"
     ]
    }
   ],
   "source": [
    "@call_twice_add_stars\n",
    "def func3():\n",
    "    print(\"I'm fresh\")\n",
    "    \n",
    "func3()"
   ]
  },
  {
   "cell_type": "markdown",
   "metadata": {},
   "source": [
    "# Enumerations\n",
    "Python supports creating enumerations, just like in other languages these are symbolic names linked to a constant value.  In python there are different ways to create the enumeration depending on your needs.  This is an example of a simple enumeration, it creates a new type called GameType where all the possible values are listed in the function arguments.  Enumerations can also be created more formally by creating a class and inheriting from Enum, this allows you to set specific values for each possible enum."
   ]
  },
  {
   "cell_type": "code",
   "execution_count": 29,
   "metadata": {},
   "outputs": [
    {
     "name": "stdout",
     "output_type": "stream",
     "text": [
      "GameType.shmup\n"
     ]
    }
   ],
   "source": [
    "from enum import Enum\n",
    "\n",
    "GameTypes = Enum('GameType', 'action adventure puzzle shmup')\n",
    "var = GameTypes.shmup\n",
    "print(var)"
   ]
  },
  {
   "cell_type": "markdown",
   "metadata": {},
   "source": [
    "# Logging\n",
    "Logging messages in any project is essential to long term success, letting the user know about program conditions or errors should be something we get in the habit of.  But how should we let the user know about this?  We could just put print states everywhere, but then we'll have to take them out for release.  It is also impossible to search through and save print statements.  Luckily we're using python, logging is built into the language and allows us to print to the screen or a file, along with controlling options about how to format the message (these can be set per handler).  When a log level is set, anything greater than or equal to the level is shown.  Setting the level to NOTSET should disable logging for that handler or device.\n",
    "\n",
    "* CRITICAL (highest), ERROR, WARNING, INFO, DEBUG (lowest), NOTSET"
   ]
  },
  {
   "cell_type": "code",
   "execution_count": 30,
   "metadata": {},
   "outputs": [],
   "source": [
    "import logging\n",
    "\n",
    "def main():\n",
    "    # let all errors through\n",
    "    logger = logging.getLogger(__name__)\n",
    "    logger.setLevel(logging.DEBUG)\n",
    "\n",
    "    # let only error or lower through to file\n",
    "    fh = logging.FileHandler(r'assets\\\\sample.log', mode='w')\n",
    "    fh.setLevel(logging.ERROR)\n",
    "    logger.addHandler(fh)\n",
    "\n",
    "    # let only debug or lower to console output\n",
    "    sh = logging.StreamHandler()\n",
    "    sh.setLevel(logging.DEBUG)\n",
    "    logger.addHandler(sh)\n",
    "\n",
    "    logger.critical('critical')\n",
    "    logger.error('error')\n",
    "    logger.warning('warning')\n",
    "    logger.info('info')\n",
    "    logger.debug('debug')\n",
    "\n",
    "    \n",
    "if __name__ == '__main__':\n",
    "#     main() this doesn't play nice in a notebook\n",
    "    pass"
   ]
  },
  {
   "cell_type": "markdown",
   "metadata": {},
   "source": [
    "# Exception Handling\n",
    "In order to create the safest running code as possible, we should use exception handling when something might fail.  Since variable types are not specified we can use exceptions to determine if an operation is possible, we can also use exceptions to test if an object has been setup.\n",
    "\n",
    "Also note the sys.exit function, this terminates the script immediately (if I run it here it will shut down the notebook).  If something has happened in the script and you cannot continue this is the preferred way to stop the script.  An error code may be passed back to help the user understand what has happened."
   ]
  },
  {
   "cell_type": "code",
   "execution_count": 31,
   "metadata": {},
   "outputs": [
    {
     "name": "stdout",
     "output_type": "stream",
     "text": [
      "whoah whoah, I don't think so\n"
     ]
    }
   ],
   "source": [
    "import sys\n",
    "\n",
    "def fail_func(a, b):\n",
    "    try:\n",
    "        print(a + b)\n",
    "    except:\n",
    "        print(\"whoah whoah, I don't think so\")\n",
    "        # sys.exit(1)\n",
    "        \n",
    "fail_func(\"hello\", 3)"
   ]
  },
  {
   "cell_type": "markdown",
   "metadata": {},
   "source": [
    "An exception block should at least have a try/except block, however it can also contain an else (which is done if the try succeeded), and a finally (which is done regardless of what happens in the try)."
   ]
  },
  {
   "cell_type": "code",
   "execution_count": 32,
   "metadata": {},
   "outputs": [
    {
     "name": "stdout",
     "output_type": "stream",
     "text": [
      "file not there!\n",
      "file block finished\n"
     ]
    }
   ],
   "source": [
    "file = None\n",
    "try:\n",
    "    file = open(\"assets\\noooope.txt\")\n",
    "except:\n",
    "    print(\"file not there!\")\n",
    "else:\n",
    "    data = file.read()\n",
    "    print(data)\n",
    "    file.close()\n",
    "finally:\n",
    "    print(\"file block finished\")"
   ]
  },
  {
   "cell_type": "markdown",
   "metadata": {},
   "source": [
    "While the previous block is very safe it is also verbose, the with keyword is syntax sugar that can help reduce the amount of code we need to write to safely use some objects.  The with keyword calls background functions of the object automatically to you don't have too, in this case the close can be ignored as it is called automatically (note this version is safe from a resource perspective and does not handle exceptions)."
   ]
  },
  {
   "cell_type": "code",
   "execution_count": 33,
   "metadata": {},
   "outputs": [
    {
     "name": "stdout",
     "output_type": "stream",
     "text": [
      "▒▒▒▒▒▒▒▒▒▒▒▒▒▒▒▒▒▒░░░░░░░░░░▒▒▒▒▒▒▒▒▒▒▒▒▒▒▒▒\n",
      "▒▒▒▒▒▒▒▒▒▒▒▒▒░░░░░░░░░░░░░░░░░░░▒▒▒▒▒▒▒▒▒▒▒▒\n",
      "▒▒▒▒▒▒▒▒▒▒░░░░░░░░░░░░░░░░░░░░░░░░░▒▒▒▒▒▒▒▒▒\n",
      "▒▒▒▒▒▒▒▒░░░░░░░░░░░░░░░░░░░░░░░░░░░░░▒▒▒▒▒▒▒\n",
      "▒▒▒▒▒▒░░░░░░░░░░░░░░░░░░░░░░░░░░░░░░▄░░▒▒▒▒▒\n",
      "▒▒▒▒▒░░░░░░░░░░░░░░░░░░░░░░░░░░░░░░██▌░░▒▒▒▒\n",
      "▒▒▒▒░░░░░░░░░░░░░░░░░░░░░░░░░░░▄▄███▀░░░░▒▒▒\n",
      "▒▒▒░░░░░░░░░░░░░░░░░░░░░░░░░░░█████░▄█░░░░▒▒\n",
      "▒▒░░░░░░░░░░░░░░░░░░░░░░░░░░▄████████▀░░░░▒▒\n",
      "▒▒░░░░░░░░░░░░░░░░░░░░░░░░▄█████████░░░░░░░▒\n",
      "▒░░░░░░░░░░░░░░░░░░░░░░░░░░▄███████▌░░░░░░░▒\n",
      "▒░░░░░░░░░░░░░░░░░░░░░░░░▄█████████░░░░░░░░▒\n",
      "▒░░░░░░░░░░░░░░░░░░░░░▄███████████▌░░░░░░░░▒\n",
      "▒░░░░░░░░░░░░░░░▄▄▄▄██████████████▌░░░░░░░░▒\n",
      "▒░░░░░░░░░░░▄▄███████████████████▌░░░░░░░░░▒\n",
      "▒░░░░░░░░░▄██████████████████████▌░░░░░░░░░▒\n",
      "▒░░░░░░░░████████████████████████░░░░░░░░░░▒\n",
      "▒█░░░░░▐██████████▌░▀▀███████████░░░░░░░░░░▒\n",
      "▐██░░░▄██████████▌░░░░░░░░░▀██▐█▌░░░░░░░░░▒▒\n",
      "▒██████░█████████░░░░░░░░░░░▐█▐█▌░░░░░░░░░▒▒\n",
      "▒▒▀▀▀▀░░░██████▀░░░░░░░░░░░░▐█▐█▌░░░░░░░░▒▒▒\n",
      "▒▒▒▒▒░░░░▐█████▌░░░░░░░░░░░░▐█▐█▌░░░░░░░▒▒▒▒\n",
      "▒▒▒▒▒▒░░░░███▀██░░░░░░░░░░░░░█░█▌░░░░░░▒▒▒▒▒\n",
      "▒▒▒▒▒▒▒▒░▐██░░░██░░░░░░░░▄▄████████▄▒▒▒▒▒▒▒▒\n",
      "▒▒▒▒▒▒▒▒▒██▌░░░░█▄░░░░░░▄███████████████████\n",
      "▒▒▒▒▒▒▒▒▒▐██▒▒░░░██▄▄███████████████████████\n",
      "▒▒▒▒▒▒▒▒▒▒▐██▒▒▄████████████████████████████\n",
      "████████████████████████████████████████████\n",
      "\n"
     ]
    }
   ],
   "source": [
    "with open(\"assets\\wolf.txt\", \"r\", encoding=\"utf8\") as wolf_file:\n",
    "    data = wolf_file.read()\n",
    "    print(data)"
   ]
  },
  {
   "cell_type": "markdown",
   "metadata": {},
   "source": [
    "# Command Line Arguments\n",
    "A common good practice is too control your program through command line arguments, by doing this you make changes to your script without having to make any code changes.  To control arguments in python we use the argparse module and create an ArgumentParser object.  Arguments come in two different types, positional and optional.  Positional arguments are mandatory, must be specified in order, and can be identified by not having a '-' in front of it (the stuff argument below).  Optional arguments can be in any order, are optional, and can be identified by having a '-' in front of it.  After setting the options for your arguments you can just call parse_args which will return all of your options.  The name of the attribute will be the name of the flag unless you specify the 'dest' option.  It is also typical to log these to a file to have the run history of an application."
   ]
  },
  {
   "cell_type": "code",
   "execution_count": 34,
   "metadata": {},
   "outputs": [],
   "source": [
    "import argparse\n",
    "\n",
    "def main():\n",
    "    parser = argparse.ArgumentParser(description='Parse App!')\n",
    "    parser.add_argument('stuff', type=str, help='to do stuff', default='missing')\n",
    "    parser.add_argument('-a', '--a_thing', dest='a_thing', type=int, help='some int thing', default=0)\n",
    "\n",
    "    args = parser.parse_args()\n",
    "    print(args.stuff)\n",
    "    print(args.a_thing)\n",
    "\n",
    "if __name__ == '__main__':\n",
    "#     main() this doesn't play nice in a notebook\n",
    "    pass"
   ]
  },
  {
   "cell_type": "markdown",
   "metadata": {},
   "source": [
    "# Encoding and Decoding\n",
    "Since Python strings can handle UNICODE and ASCII strings we will sometimes need to tell Python how to interpet character data.  The file I am trying to print is german cities which has characters that do not work in ASCII, I am also telling Python it is encoded in ASCII which results in some odd results.  \"latin_1\" is essentially ASCII encoding, try changing the encoding to \"utf-8\" which is a UNICODE encoding.\n",
    "\n",
    "If we somehow get a string with the wrong encoding we can use encode / decode to get it into the format we need.  Initially the string begins as an improperly encoded UNICODE string.  The encode function converts a string into a byte array (raw data), then the decode function can attempt to reassemble the string as UNICODE."
   ]
  },
  {
   "cell_type": "code",
   "execution_count": 35,
   "metadata": {},
   "outputs": [
    {
     "name": "stdout",
     "output_type": "stream",
     "text": [
      "Biberach an der RiÃ\n",
      "Dessau-RoÃlau\n",
      "FÃ¼rth\n",
      "GrÃ¤felfing\n",
      "VÃ¶lklingen\n",
      "\n",
      "FÃ¼rth, b'F\\xc3\\xbcrth', Fürth\n"
     ]
    }
   ],
   "source": [
    "with open(\"assets/germany.txt\", encoding=\"latin-1\") as file:\n",
    "    for line in file:\n",
    "        print(line, end=\"\")\n",
    "print(\"\\n\")\n",
    "\n",
    "city = \"FÃ¼rth\"\n",
    "byte_city = city.encode(\"latin-1\")\n",
    "unicode_city = byte_city.decode(\"utf-8\")\n",
    "print(city, byte_city, unicode_city, sep = \", \")"
   ]
  },
  {
   "cell_type": "markdown",
   "metadata": {},
   "source": [
    "# Docstring\n",
    "Docstrings are a special type of comment added to a Python file or function, their purpose is to instruct users on how to use code.  This is different from a comment, their purpose is to instruct users on why code works.  To provide a docstring, place a literal string at the top of a file or function.  The _help_ function gets its information from docstrings."
   ]
  },
  {
   "cell_type": "code",
   "execution_count": 36,
   "metadata": {},
   "outputs": [
    {
     "name": "stdout",
     "output_type": "stream",
     "text": [
      "Help on function PraiseTheSun in module __main__:\n",
      "\n",
      "PraiseTheSun()\n",
      "    this function is grossly incandescent, though doesn't do anything right now\n",
      "\n"
     ]
    }
   ],
   "source": [
    "def PraiseTheSun():\n",
    "    \"\"\"\n",
    "    this function is grossly incandescent, though doesn't do anything right now\n",
    "    \"\"\"\n",
    "    \n",
    "help(PraiseTheSun)"
   ]
  },
  {
   "cell_type": "markdown",
   "metadata": {},
   "source": [
    "# Splat\n",
    "Sometimes it is useful to unpack a list or dictionary into function arguments, to do you can use the splat operator to unpack the iterable."
   ]
  },
  {
   "cell_type": "code",
   "execution_count": 37,
   "metadata": {},
   "outputs": [
    {
     "name": "stdout",
     "output_type": "stream",
     "text": [
      "1 2 3 4 5\n"
     ]
    }
   ],
   "source": [
    "stuff = [1, 2, 3, 4, 5]\n",
    "print(*stuff)"
   ]
  },
  {
   "cell_type": "markdown",
   "metadata": {},
   "source": [
    "This is somewhat related to another thing we can do in python concerning function arguments.  If you do not want to put all of the arguments, or if you later want to add arguments without changing the definition you can you use args or kwargs.  Args is used for when you want to pass in one or more items, kwargs is a dictionary of keyword - argument pairs. "
   ]
  },
  {
   "cell_type": "code",
   "execution_count": 38,
   "metadata": {},
   "outputs": [
    {
     "name": "stdout",
     "output_type": "stream",
     "text": [
      "hello\n",
      "100\n",
      "(6, 6)\n"
     ]
    }
   ],
   "source": [
    "# or **kwargs\n",
    "def fun_func(*args):\n",
    "    for arg in args:\n",
    "        print(arg)\n",
    "        \n",
    "fun_func('hello', 100, (6,6))"
   ]
  },
  {
   "cell_type": "markdown",
   "metadata": {},
   "source": [
    "## Paths\n",
    "Paths are usually a pain to deal with, making sure you get the \"/\" correct, making sure you operate correctly depending on the operating system, concatenating paths and filenames, etc.  In the os module python has some tools to make this easier for you."
   ]
  },
  {
   "cell_type": "code",
   "execution_count": 39,
   "metadata": {},
   "outputs": [
    {
     "name": "stdout",
     "output_type": "stream",
     "text": [
      "assets\\lord_kyros.txt\n",
      "False\n"
     ]
    }
   ],
   "source": [
    "import os\n",
    "\n",
    "f_name = 'lord_kyros.txt'\n",
    "f_path = 'assets'\n",
    "path = os.path.join(f_path, f_name)\n",
    "print(path)\n",
    "print(os.path.exists(path))"
   ]
  },
  {
   "cell_type": "markdown",
   "metadata": {},
   "source": [
    "## Collections\n",
    "Earlier we covered the general purpose containers (list, dict, set, tuple), however there are actually quite a few more specialized containers found in the collections module.  These containers provide extra funcitonality and are also much faster at their specialized actions than the general purpose containers.\n",
    "\n",
    "Sometimes when using a dicitonary it is useful to have a built in method to provide default vaules so you don't have to supply one in your algorithm, in those cases check out the defaultdict."
   ]
  },
  {
   "cell_type": "code",
   "execution_count": 40,
   "metadata": {},
   "outputs": [
    {
     "name": "stdout",
     "output_type": "stream",
     "text": [
      "This game is Unknown!!!\n"
     ]
    }
   ],
   "source": [
    "from collections import defaultdict\n",
    "\n",
    "game_info = defaultdict(lambda: 'Unknown!!')\n",
    "game_info['The Witcher'] = 'Bad Ass'\n",
    "print('This game is {}!'.format(game_info['Hyper Light Drifter']))"
   ]
  },
  {
   "cell_type": "markdown",
   "metadata": {},
   "source": [
    "If you ever need to count occurnces in a container the counter object can help."
   ]
  },
  {
   "cell_type": "code",
   "execution_count": 41,
   "metadata": {},
   "outputs": [
    {
     "name": "stdout",
     "output_type": "stream",
     "text": [
      "Counter({'a': 3, 'e': 2, 'b': 1, 'c': 1, 'z': 1})\n"
     ]
    }
   ],
   "source": [
    "from collections import Counter\n",
    "letters = ['a', 'b', 'c', 'a', 'e', 'z', 'e', 'a']\n",
    "counts = Counter(letters)\n",
    "print(counts)"
   ]
  },
  {
   "cell_type": "markdown",
   "metadata": {},
   "source": [
    "Tuples are great but sometimes not having any names for your object can be confusing, in these cases you can use a named tuple."
   ]
  },
  {
   "cell_type": "code",
   "execution_count": 42,
   "metadata": {},
   "outputs": [
    {
     "name": "stdout",
     "output_type": "stream",
     "text": [
      "Point(x=6.6, y=2.0)\n"
     ]
    }
   ],
   "source": [
    "from collections import namedtuple\n",
    "Point = namedtuple('Point', ['x', 'y'])\n",
    "dot = Point(6.6, 2.0)\n",
    "print(dot)"
   ]
  },
  {
   "cell_type": "markdown",
   "metadata": {},
   "source": [
    "## Lambda\n",
    "Python supports lambdas which are basically just nameless functions.  These verge on being syntax sugar but can be useful to write nice looking code.  In Python the lamba syntax is slightly different in the fact that it must always be a single expression, due to this it is implied this expression is actually the return statement as well.  We can also save python lambdas in a variable and use it like a functor."
   ]
  },
  {
   "cell_type": "code",
   "execution_count": 43,
   "metadata": {},
   "outputs": [
    {
     "name": "stdout",
     "output_type": "stream",
     "text": [
      "about!!to!!get!!excited\n",
      "ABOUT TO GET REALLY EXCITED\n",
      "BASICALLY INCEPTION\n"
     ]
    }
   ],
   "source": [
    "f = lambda x: x.replace(' ', '!!')\n",
    "print(f('about to get excited'))\n",
    "\n",
    "f = lambda x: x.upper()\n",
    "print(f('about to get really excited'))\n",
    "\n",
    "z = lambda x,y: x(y)\n",
    "print(z(f, 'basically inception'))"
   ]
  },
  {
   "cell_type": "markdown",
   "metadata": {},
   "source": [
    "## Built In Functions\n",
    "Python has a large library of built in functions for common actions, we already looked at a few of these (len, sum, sorted, list).  For min and max, you can specify how these functions work by using the optional 'key' argument.  "
   ]
  },
  {
   "cell_type": "code",
   "execution_count": 44,
   "metadata": {},
   "outputs": [
    {
     "name": "stdout",
     "output_type": "stream",
     "text": [
      "-1\n",
      "20\n"
     ]
    }
   ],
   "source": [
    "stuff = [-1, 0, 14, 7, 20]\n",
    "print(min(stuff))\n",
    "print(max(stuff))"
   ]
  },
  {
   "cell_type": "markdown",
   "metadata": {},
   "source": [
    "The hash function generates an id based on the data used."
   ]
  },
  {
   "cell_type": "code",
   "execution_count": 45,
   "metadata": {},
   "outputs": [
    {
     "name": "stdout",
     "output_type": "stream",
     "text": [
      "2288508644581843025\n"
     ]
    }
   ],
   "source": [
    "print(hash('hello'))"
   ]
  },
  {
   "cell_type": "markdown",
   "metadata": {},
   "source": [
    "The all function checks an iterable to see if all items contained are true, the any function checks to see if at least one is true."
   ]
  },
  {
   "cell_type": "code",
   "execution_count": 46,
   "metadata": {},
   "outputs": [
    {
     "name": "stdout",
     "output_type": "stream",
     "text": [
      "True\n"
     ]
    }
   ],
   "source": [
    "print(all([x >= 0 for x in range(10)]))"
   ]
  },
  {
   "cell_type": "markdown",
   "metadata": {},
   "source": [
    "## Itertools\n",
    "We discussed some basic looping along with some very useful tools (zip, enumerate), however the batteries don't stop there, they can also be combined!\n",
    "\n",
    "The count function..counts indefinately, the passed in argument is where to start from (you can also specify a step).  In this example we are using zip just like we did before, but we are combining it with the count tool."
   ]
  },
  {
   "cell_type": "code",
   "execution_count": 47,
   "metadata": {},
   "outputs": [
    {
     "name": "stdout",
     "output_type": "stream",
     "text": [
      "0 gwyn\n",
      "1 nito\n",
      "2 pinwheel\n"
     ]
    }
   ],
   "source": [
    "from itertools import count\n",
    "for i,n in zip(count(0), names):\n",
    "    print(i, n)"
   ]
  },
  {
   "cell_type": "markdown",
   "metadata": {},
   "source": [
    "Python also supports fractions."
   ]
  },
  {
   "cell_type": "code",
   "execution_count": 48,
   "metadata": {},
   "outputs": [
    {
     "name": "stdout",
     "output_type": "stream",
     "text": [
      "1/5\n",
      "2/5\n",
      "3/5\n",
      "4/5\n",
      "1\n"
     ]
    }
   ],
   "source": [
    "import fractions\n",
    "start = fractions.Fraction(1, 5)\n",
    "step = fractions.Fraction(1, 5)\n",
    "\n",
    "for frac,i in zip(count(start, step), range(5)):\n",
    "    print(frac)"
   ]
  },
  {
   "cell_type": "markdown",
   "metadata": {},
   "source": [
    "The zip function lets you loop through two cotainers at once, the chain function lets you loop through two containers sequentially."
   ]
  },
  {
   "cell_type": "code",
   "execution_count": 49,
   "metadata": {},
   "outputs": [
    {
     "name": "stdout",
     "output_type": "stream",
     "text": [
      "gwyn\n",
      "nito\n",
      "pinwheel\n",
      "Moonlight Greatsword\n",
      "Velkas Rapier\n",
      "Butcher Knife\n",
      "Painting Guardian Sword\n"
     ]
    }
   ],
   "source": [
    "names = [\"gwyn\", \"nito\", \"pinwheel\"]\n",
    "weapons = ['Moonlight Greatsword', 'Velkas Rapier', 'Butcher Knife', 'Painting Guardian Sword']\n",
    "\n",
    "from itertools import chain\n",
    "for i in chain(names, weapons):\n",
    "    print(i)"
   ]
  },
  {
   "cell_type": "markdown",
   "metadata": {},
   "source": [
    "The cycle function repeats the contents of a container indefinately."
   ]
  },
  {
   "cell_type": "code",
   "execution_count": 50,
   "metadata": {},
   "outputs": [
    {
     "name": "stdout",
     "output_type": "stream",
     "text": [
      "gwyn\n",
      "nito\n",
      "pinwheel\n",
      "gwyn\n",
      "nito\n",
      "pinwheel\n",
      "gwyn\n"
     ]
    }
   ],
   "source": [
    "names = [\"gwyn\", \"nito\", \"pinwheel\"]\n",
    "weapons = ['Moonlight Greatsword', 'Velkas Rapier', 'Butcher Knife', 'Painting Guardian Sword']\n",
    "\n",
    "from itertools import cycle\n",
    "for i in zip(range(7), cycle(names)):\n",
    "    print(i[1])"
   ]
  },
  {
   "cell_type": "markdown",
   "metadata": {},
   "source": [
    "The repeat function returns a value a specified number of iterations."
   ]
  },
  {
   "cell_type": "code",
   "execution_count": 51,
   "metadata": {},
   "outputs": [
    {
     "name": "stdout",
     "output_type": "stream",
     "text": [
      "weee\n",
      "weee\n",
      "weee\n",
      "weee\n",
      "weee\n"
     ]
    }
   ],
   "source": [
    "from itertools import repeat\n",
    "for i in repeat('weee', 5):\n",
    "    print(i)"
   ]
  },
  {
   "cell_type": "markdown",
   "metadata": {},
   "source": [
    "The filter function only returns items that pass a conditional test, this is actually a built in function."
   ]
  },
  {
   "cell_type": "code",
   "execution_count": 52,
   "metadata": {},
   "outputs": [
    {
     "name": "stdout",
     "output_type": "stream",
     "text": [
      "NOW YOU'RE PLAYING WITH POWER, PYTHON POWER\n",
      "gwyn\n",
      "NOW YOU'RE PLAYING WITH POWER, PYTHON POWER\n",
      "nito\n",
      "NOW YOU'RE PLAYING WITH POWER, PYTHON POWER\n",
      "pinwheel\n"
     ]
    }
   ],
   "source": [
    "names = [\"gwyn\", \"nito\", \"pinwheel\"]\n",
    "weapons = ['Moonlight Greatsword', 'Velkas Rapier', 'Butcher Knife', 'Painting Guardian Sword']\n",
    "\n",
    "for i in filter(lambda x: len(x) > 5, names):\n",
    "    print(i)"
   ]
  },
  {
   "cell_type": "markdown",
   "metadata": {},
   "source": [
    "There are a series of combinatoric generators that give either the product, permutation, or combination of symbols given."
   ]
  },
  {
   "cell_type": "code",
   "execution_count": 53,
   "metadata": {},
   "outputs": [
    {
     "name": "stdout",
     "output_type": "stream",
     "text": [
      "('a', 'a')\n",
      "('a', 'b')\n",
      "('a', 'c')\n",
      "('b', 'a')\n",
      "('b', 'b')\n",
      "('b', 'c')\n",
      "('c', 'a')\n",
      "('c', 'b')\n",
      "('c', 'c')\n"
     ]
    }
   ],
   "source": [
    "from itertools import product\n",
    "for thing in product('abc', repeat=2):\n",
    "    print(thing)"
   ]
  },
  {
   "cell_type": "markdown",
   "metadata": {},
   "source": [
    "## Python Package Index (the cheese shop)\n",
    "One of the great things about Python is the PyPi (Python Package Index), it is simply a public repository of useful modules.  Need something to connect to the Amazon API?  Need something to make games?  Need something to generate word clouds?  Its probably there already and Python has a built in mechanism to dowload and install the modules for you.  There are currently over 70K packages available.  Typing the following at the command line would install and configure everything for you, some IDEs also have this functionality built right into it.  Some Python backends are written in c++ so you might need a visual studio compiler installed on your computer to pip some packages, this can sometimes lead to version conflicts.\n",
    "\n",
    "pip install \"name_of_package\""
   ]
  },
  {
   "cell_type": "markdown",
   "metadata": {},
   "source": [
    "## Virtual Environments\n",
    "One issue that can come up when developing in python is keeping track of dependencies.  Imagine you are working on two projects and each requires the BeautifulSoup library, however one project needs 1.5 and the other needs 2.1, python is unable to determine to tell a difference between library versions.  To solve this problem we create virtual environments, these are isolated python folders where you can install separate libraries.  In your IDE you can then select which python interpreter you want to use for the project.  You need the virtualenv package installed to do this, then navigate to the folder you want create en environment in and type the following\n",
    "\n",
    "virtualenv name_of_project\n",
    "\n",
    "This will create an environment that you can install packages into, navigate into the folder and then type activate to make sure that anything installed with pip will be downloaded to this folder.  When you are done type deactivate to disable installing to the virtual environment.  Once this is finished you can select this new environment in your IDE to use that specific version of python and libraries.  A common next step is to save a list of the packages installed, this way it is easy to rebuild the environment.  The requirements file can be supplied to pip to install everything in it.\n",
    "\n",
    "pip freeze -l > requirements.txt"
   ]
  },
  {
   "cell_type": "markdown",
   "metadata": {},
   "source": [
    "# Conda\n",
    "Pip and virtual environments work pretty well together, however there is a better solution for managing environments and installing packages called conda. Conda will need to be installed on its own, in fact you guys already did this when installed Anaconda (a smaller version called miniconda exists that just provides conda environment management). Once conda is installed you can use it to download packages and manage environments by using the following commands.\n",
    "\n",
    "* Create a new conda environment\n",
    "    * conda create --name ENV_NAME\n",
    "* Get info on all created environments\n",
    "    * conda info --envs\n",
    "* Activate an environment\n",
    "    * conda activate ENV_NAME\n",
    "* Deactitavate an environment\n",
    "    * conda deactivate\n",
    "* See if a package is on conda, this is separate from the python package index!\n",
    "    * conda search PACKAGE_NAME\n",
    "* Install a conda package\n",
    "    * conda install PACKAGE_NAME\n",
    "* Clone an existing conda environment\n",
    "    * conda create --clone ENV_NAME --name NEW_ENV\n",
    "* Export a conda environment to yaml\n",
    "    * conda env export --name ENV_NAME > envname.yml\n",
    "* Install a conda environment from yaml\n",
    "    * conda env create --file envname.yml\n",
    "\n",
    "This of course is just the basics to get a conda environment up and running. It might seem like a bit of a pain having to install a separate program to manage our environments since Python comes with pip, but having a dedicated manager to install packages and environments is useful."
   ]
  },
  {
   "cell_type": "markdown",
   "metadata": {},
   "source": [
    "## Ok\n",
    "Ok, that STILL doesn't really cover everything, however it should get you further on the path for taking advantage of what Python has to offer."
   ]
  }
 ],
 "metadata": {
  "anaconda-cloud": {},
  "kernelspec": {
   "display_name": "Python [conda env:base] *",
   "language": "python",
   "name": "conda-base-py"
  },
  "language_info": {
   "codemirror_mode": {
    "name": "ipython",
    "version": 3
   },
   "file_extension": ".py",
   "mimetype": "text/x-python",
   "name": "python",
   "nbconvert_exporter": "python",
   "pygments_lexer": "ipython3",
   "version": "3.12.7"
  },
  "vscode": {
   "interpreter": {
    "hash": "ce119b89bc2e74c761eac86109834d120346842bff8d13cbadf57b85ac0c1fd2"
   }
  }
 },
 "nbformat": 4,
 "nbformat_minor": 4
}
