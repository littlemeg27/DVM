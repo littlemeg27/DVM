{
 "cells": [
  {
   "cell_type": "markdown",
   "metadata": {},
   "source": [
    "# Python\n",
    "\n",
    "By now you should already have experience with a few different languages, so why are we going to take a look at yet another language?  Well different languages solve different problems\n",
    "  * c/c++ is fast, but is slow to compile, memory handling is difficult, and has cryptic symbols and keywords\n",
    "  * C# has a great GUI builder, handles memory, bigger library, but isn't as fast as c++ and doesn't improve productivity (much)\n",
    "  * Java is \"multiplatform\" and handles memory, but isn't as fast as c++ and doesn't improve productivity (much)\n",
    "\n",
    "Python takes a different approach and focuses on something other languages don't improve on, programmer productivity\n",
    "  * Python is built to make it easier for you to get stuff done\n",
    "  * Python is interpreted (compiled to byte code (not machine code), when importing)\n",
    "  * However it slower to execute than other languages and uses more memory when executing\n",
    "  \n",
    "We will be going over Python 3.x, Python 2.x is still used in the wild but it is officially deprecated.  Stackless Python is a version of Python built around multi threading, similar to fibers (smaller, app controlled threads)."
   ]
  },
  {
   "cell_type": "markdown",
   "metadata": {},
   "source": [
    "## Its In The Batteries (or in the cheese shop)"
   ]
  },
  {
   "cell_type": "markdown",
   "metadata": {},
   "source": [
    "One of the major benefits of Python is that a task will take less time to do.  Basically anything a programmer needs should already be provided as a built in function or will be easy to get, this way you can focus on the problem solving and ignore the nuts and bolts.  Before you start working on an algorithm, check to see if the solution is already available somewhere else."
   ]
  },
  {
   "cell_type": "code",
   "execution_count": 1,
   "metadata": {
    "tags": []
   },
   "outputs": [
    {
     "name": "stdout",
     "output_type": "stream",
     "text": [
      "10\n"
     ]
    }
   ],
   "source": [
    "# std:list<int> nums {1, 2, 3, 4, 5, 6, 7, 8, 9, 10};\n",
    "# int biggest = 0;\n",
    "# for (&x : nums)\n",
    "# {\n",
    "#     if (x > biggest)\n",
    "#     {\n",
    "#          biggest = x;\n",
    "#     }\n",
    "# }\n",
    "# cout << biggest;\n",
    "\n",
    "nums = [1, 2, 3, 4, 5, 6, 7, 8, 9, 10]\n",
    "print(max(nums))"
   ]
  },
  {
   "cell_type": "markdown",
   "metadata": {},
   "source": [
    "Notice that the function print is used to output data, # is to indicate comments, and there is no need for a terminating semilcolon at the end of the line.  \n",
    "\n",
    "Despite the dramatic increase in programmer productivity, there are only a few big changes from other languages.  The first is that the language has managed memory in a similar mechanism as C# and Java."
   ]
  },
  {
   "cell_type": "markdown",
   "metadata": {},
   "source": [
    "## Variables"
   ]
  },
  {
   "cell_type": "markdown",
   "metadata": {},
   "source": [
    "Variables in Python are dynamically typed, meaning that the type is inferred from assignment.  We typically don’t care what it is, only what it is able to do, this is often referred to as duck typing (if it acts like a duck and looks like a duck, its a duck).  Variables in python work more like removeable labels.  You can attach a 'var1' label to a number, then a string, then to a class, etc.\n",
    "\n",
    "In the following code notice that None just means 'no value'.  Notice that we can do more than one assignment at once, this allows us some pretty useful functionality such as the variable swap below."
   ]
  },
  {
   "cell_type": "code",
   "execution_count": 6,
   "metadata": {},
   "outputs": [
    {
     "name": "stdout",
     "output_type": "stream",
     "text": [
      "100 5\n"
     ]
    }
   ],
   "source": [
    "var1 = None\n",
    "var1 = \"I can be anything\"\n",
    "var1 = 5\n",
    "var2 = 100\n",
    "var1, var2 = var2, var1\n",
    "print(var1, var2)"
   ]
  },
  {
   "cell_type": "markdown",
   "metadata": {},
   "source": [
    "To get more inforation on a variables type, you can use either the type() function or use exception handling (discussed later)."
   ]
  },
  {
   "cell_type": "code",
   "execution_count": 7,
   "metadata": {},
   "outputs": [
    {
     "name": "stdout",
     "output_type": "stream",
     "text": [
      "<class 'int'> <class 'str'>\n"
     ]
    }
   ],
   "source": [
    "var1 = 100\n",
    "var2 = \"darkness\"\n",
    "print(type(var1), type(var2))"
   ]
  },
  {
   "cell_type": "markdown",
   "metadata": {},
   "source": [
    "We can also get input from users to fill our variables."
   ]
  },
  {
   "cell_type": "code",
   "execution_count": 8,
   "metadata": {},
   "outputs": [
    {
     "name": "stdin",
     "output_type": "stream",
     "text": [
      "whats your name again?  brando\n"
     ]
    },
    {
     "name": "stdout",
     "output_type": "stream",
     "text": [
      "Hello brando\n"
     ]
    }
   ],
   "source": [
    "var1 = input(\"whats your name again? \")\n",
    "print(\"Hello \" + var1)"
   ]
  },
  {
   "cell_type": "markdown",
   "metadata": {},
   "source": [
    "## Numbers\n",
    "To start with we will talk about some basic data types (not variable types): numbers, booleans, and strings.  Numbers in Python are capable of floating and integer types.  All of the arithmetic operators work the same as c++, there are even additional operators for power and floor division."
   ]
  },
  {
   "cell_type": "code",
   "execution_count": 9,
   "metadata": {},
   "outputs": [
    {
     "name": "stdout",
     "output_type": "stream",
     "text": [
      "10, 1000, 8.0\n"
     ]
    }
   ],
   "source": [
    "var1 = 10\n",
    "var2 = var1 ** 3\n",
    "var3 = 34.32 // 4\n",
    "print(var1, var2, var3, sep=\", \")"
   ]
  },
  {
   "cell_type": "markdown",
   "metadata": {},
   "source": [
    "The ternary operator is a little different as it uses the if/else keywords instead of symbols.  The int() looks like a cast, but it is actually calling a function that tries to convert passed in objects to an integer type.  This type of functionality exists for other types as well.  The int function also has an argument for the number base, this allows you to easily convert number bases as well."
   ]
  },
  {
   "cell_type": "code",
   "execution_count": 10,
   "metadata": {},
   "outputs": [
    {
     "name": "stdout",
     "output_type": "stream",
     "text": [
      "100, 101\n"
     ]
    }
   ],
   "source": [
    "var1 = 100 if 10 > 5 else -100\n",
    "var2 = int('101')\n",
    "print(var1, var2, sep=\", \")"
   ]
  },
  {
   "cell_type": "markdown",
   "metadata": {},
   "source": [
    "Bitwise operators work mostly the same in Python, though we do have a literal prefix to represent binary numbers.  We do have a new operator here called the inversion operator, its goal is to reverse the byte interpretation (remember this in two's complement)."
   ]
  },
  {
   "cell_type": "code",
   "execution_count": 11,
   "metadata": {},
   "outputs": [
    {
     "name": "stdout",
     "output_type": "stream",
     "text": [
      "341\n",
      "85\n",
      "-2\n"
     ]
    }
   ],
   "source": [
    "var1 = 0b101010101\n",
    "print(var1)\n",
    "print(var1 & 0xFF)\n",
    "print(~1)"
   ]
  },
  {
   "cell_type": "markdown",
   "metadata": {},
   "source": [
    "To make our code easier to read there are a few different ways we can write our numbers in python.  To make large numbers easier to read underscores can be used in place of commmas, these are ignored when the number is used.  We can also use scientific notation for floating point numbers, these multiply the float by a specified power of ten."
   ]
  },
  {
   "cell_type": "code",
   "execution_count": 12,
   "metadata": {},
   "outputs": [
    {
     "name": "stdout",
     "output_type": "stream",
     "text": [
      "1000000\n",
      "0.0009435\n"
     ]
    }
   ],
   "source": [
    "num = 1_000_000\n",
    "print(num)\n",
    "\n",
    "num = 9.435e-4\n",
    "print(num)"
   ]
  },
  {
   "cell_type": "markdown",
   "metadata": {},
   "source": [
    "## The Sausage\n",
    "There is much more going on behind the scenes with python variables, lets take a look at what a python integer actually is.  Python is written in c so every python object is actually a structure.  This is where some of overhead in using python is coming from.  However this is also what makes python so easy and robust to use.  Notice the fields ob_size and ob_digit, python ints don't have a bound on how large they can be, how would you represent a number this large in other languages?"
   ]
  },
  {
   "cell_type": "code",
   "execution_count": 13,
   "metadata": {},
   "outputs": [
    {
     "name": "stdout",
     "output_type": "stream",
     "text": [
      "194,207,916,858,072,401,073,330,513,240,517,841,169,895,831,937,243,168,645,765,334,645,631,807,358,586,165,476,831,829,984,964,567,897,289,883,410,682,808,509,863,485,381,763,945,405,279,379,355,788,182,053,541,434,708,898,886,353,264,614,403,164,257,835,946,591,015,853,500,491,562,156,765,579,388,944,516,423,770,646,547,300,211,711,400,609,344,237,550,775,485,394,558,425,026,601,257,627,110,879,613,741,893,863,295,847,627,378,504,481,736,441,703,291,029,360,564,416,718,984,718,052,676,789,493,826,372,811,349,572,386,149,787,861,703,350,363,229,770,343,522,164,432,121,091,627,871,310,618,608,734,044,108,407,173,015,970,850,780,786,711,471,108,639,762,810,760,748,899,301,375,323,974,504,010,469,298,672,123,113,693,793,242,558,662,498,267,897,607,159,946,316,136,440,215,024,585,534,972,601,864,730,717,278,590,674,861,331,708,227,340,510,282,977,338,127,859,756,479,389,076,075,528,672,989,549,862,138,485,404,935,127,984,793,120,586,289,288,424,045,660,573,066,638,008,624,179,879,066,798,350,622,453,419,082,976,217,706,653,276,687,992,598,885,030,141,711,458,658,381,360,884,807,741,768,071,789,239,593,772,708,382,532,520,992,894,115,725,948,613,681,993,478,965,648,216,640,862,698,897,925,988,931,145,600,683,858,128,653,568,049,999,074,868,783,790,048,889\n"
     ]
    }
   ],
   "source": [
    "# struct _longobject {\n",
    "#     long ob_refcnt;\n",
    "#     PyTypeObject *ob_type;\n",
    "#     size_t ob_size;\n",
    "#     long ob_digit[1]; };\n",
    "\n",
    "x = 9**999\n",
    "print(f'{x:,}')"
   ]
  },
  {
   "cell_type": "markdown",
   "metadata": {},
   "source": [
    "## Booleans"
   ]
  },
  {
   "cell_type": "markdown",
   "metadata": {},
   "source": [
    "There isn't much to say about booleans, as you might have noticed True and False are capitalized.  We haven't talked about containers or strings yet, but they will evaluate to false if they are empty."
   ]
  },
  {
   "cell_type": "code",
   "execution_count": 14,
   "metadata": {},
   "outputs": [
    {
     "name": "stdout",
     "output_type": "stream",
     "text": [
      "True False\n"
     ]
    }
   ],
   "source": [
    "var1 = True\n",
    "var2 = False\n",
    "print(var1, var2)"
   ]
  },
  {
   "cell_type": "markdown",
   "metadata": {},
   "source": [
    "## Strings\n",
    "Strings in Python are created with ' or \" and are immutable, if changes need to be made to a string a new one is returned.  The default encoding for strings in Python is Unicode UTF-8, this means that they are automatically compatible with different languages.  Python strings work similar to STL strings since they are classes with support functions built in, however in Python the amount of functionality is much larger."
   ]
  },
  {
   "cell_type": "code",
   "execution_count": 15,
   "metadata": {},
   "outputs": [
    {
     "name": "stdout",
     "output_type": "stream",
     "text": [
      "HELLO WORLD, PYTHON\n"
     ]
    }
   ],
   "source": [
    "var1 = 'hello ' + \"world, \" + \"Python\"\n",
    "var1 = var1.upper()\n",
    "\n",
    "print(var1)"
   ]
  },
  {
   "cell_type": "markdown",
   "metadata": {},
   "source": [
    "Its probably obvious what len() does, but why isn't a member function of the string?  This simple point illustrates one of the most powerful ideas in python, idiomatic code.  What this means is that we should have one intuitive common way to do something.  How do you find the length of a string in C++?  or a list, vector, map, queue, etc."
   ]
  },
  {
   "cell_type": "code",
   "execution_count": 16,
   "metadata": {},
   "outputs": [
    {
     "name": "stdout",
     "output_type": "stream",
     "text": [
      "17\n"
     ]
    }
   ],
   "source": [
    "var1 = 'green hill zone 1'\n",
    "print(len(var1))"
   ]
  },
  {
   "cell_type": "markdown",
   "metadata": {},
   "source": [
    "To access elements of something that has size we use the bracket operator, However in python this is much more powerful, one example of this is that you can specify negative numbers to traverse backwards.  Probably the most unfamiliar thing in this example is the splice operator (:), this returns a subset of the original with you specifying (beginning:end:step).  If omitted the defaults are (start of thing:end of thing:1), in a way it kind of works like a for loop."
   ]
  },
  {
   "cell_type": "code",
   "execution_count": 17,
   "metadata": {},
   "outputs": [
    {
     "name": "stdout",
     "output_type": "stream",
     "text": [
      "1\n",
      "green\n",
      "1 enoz llih neerg\n"
     ]
    }
   ],
   "source": [
    "var1 = 'green hill zone 1'\n",
    "print(var1[-1])\n",
    "print(var1[0:5])\n",
    "print(var1[::-1])"
   ]
  },
  {
   "cell_type": "markdown",
   "metadata": {},
   "source": [
    "To insert variable data into a string we use formatted string literals.  Simply preface your string with an 'f' (stands for format), then insert variables into curly braces for them to be in the string."
   ]
  },
  {
   "cell_type": "code",
   "execution_count": 18,
   "metadata": {},
   "outputs": [
    {
     "name": "stdout",
     "output_type": "stream",
     "text": [
      "My name is Brandon, I teach DVM.\n"
     ]
    }
   ],
   "source": [
    "name, class_name = 'Brandon', 'DVM'\n",
    "print(f'My name is {name}, I teach {class_name}.')"
   ]
  },
  {
   "cell_type": "markdown",
   "metadata": {},
   "source": [
    "## Range\n",
    "The range function returns an object that represents a numerical range.  We can use this to create containers or to control looping mechanisms."
   ]
  },
  {
   "cell_type": "code",
   "execution_count": 19,
   "metadata": {},
   "outputs": [
    {
     "name": "stdout",
     "output_type": "stream",
     "text": [
      "range(0, 10)\n",
      "range(20, 0, -1)\n"
     ]
    }
   ],
   "source": [
    "num_range = range(10)\n",
    "print(num_range)\n",
    "\n",
    "num_range = range(20, 0, -1)\n",
    "print(num_range)"
   ]
  },
  {
   "cell_type": "markdown",
   "metadata": {},
   "source": [
    "## List\n",
    "In c++ choosing which container to use is actually very important (list, queue, stack, vector, array?), in Python this choice is simplified into a single container that has the functionality of everything.  To create a list use the square brackets [].  Notice that the types don't have to match, we don't care about variable types.   You can  create a list by calling the list() function, just like we did before the with the int() function."
   ]
  },
  {
   "cell_type": "code",
   "execution_count": 20,
   "metadata": {},
   "outputs": [
    {
     "name": "stdout",
     "output_type": "stream",
     "text": [
      "[2, 3, 4, 5.0, 6.0, True, False, 123]\n"
     ]
    }
   ],
   "source": [
    "var1 = [1, 2, 3, 4, 5.0, 6.0, True, False]\n",
    "\n",
    "var1.append(123)\n",
    "var1.pop(0)\n",
    "print(var1)"
   ]
  },
  {
   "cell_type": "markdown",
   "metadata": {},
   "source": [
    "Note the idiomatic Python calls and use of splicing."
   ]
  },
  {
   "cell_type": "code",
   "execution_count": 21,
   "metadata": {},
   "outputs": [
    {
     "name": "stdout",
     "output_type": "stream",
     "text": [
      "[1, True, False]\n",
      "22.0\n",
      "8\n"
     ]
    }
   ],
   "source": [
    "var1 = [1, 2, 3, 4, 5.0, 6.0, True, False]\n",
    "var1 = sorted(var1, reverse=True)\n",
    "\n",
    "print(var1[-3:])\n",
    "print(sum(var1))\n",
    "print(len(var1))"
   ]
  },
  {
   "cell_type": "markdown",
   "metadata": {},
   "source": [
    "## Dictionary\n",
    "The list is the container to use if you are storing single items, however if you need the functionality to store key/value pairs then the container to use is the dictionary (map, hash table).  The dictionary is created with curly braces {} and can also hold varying types, and of course idiomatic Python is true here too.  If you need to store only the keys you can omit the data portion and you will create a set.  Just like with the list, you can create a dictionary or set by calling the dict() or set() functions as well."
   ]
  },
  {
   "cell_type": "code",
   "execution_count": 22,
   "metadata": {},
   "outputs": [
    {
     "name": "stdout",
     "output_type": "stream",
     "text": [
      "95\n"
     ]
    }
   ],
   "source": [
    "class_grades = {\"joe\":100, \"mike\":90, \"stan\":80}\n",
    "\n",
    "class_grades[\"sarah\"] = 95\n",
    "print(class_grades['sarah'])"
   ]
  },
  {
   "cell_type": "markdown",
   "metadata": {},
   "source": [
    "If we're not sure if a key exists we can use the get function, it has an optional argument to specify a default value if the key is not found.  If you want access to either the keys or values in the dictionary there are functions for that as well."
   ]
  },
  {
   "cell_type": "code",
   "execution_count": 23,
   "metadata": {},
   "outputs": [
    {
     "name": "stdout",
     "output_type": "stream",
     "text": [
      "0\n",
      "dict_keys(['joe', 'mike', 'stan'])\n",
      "dict_values([100, 90, 80])\n"
     ]
    }
   ],
   "source": [
    "class_grades = {\"joe\":100, \"mike\":90, \"stan\":80}\n",
    "\n",
    "print(class_grades.get('Isaac', 0))\n",
    "print(class_grades.keys())\n",
    "print(class_grades.values())"
   ]
  },
  {
   "cell_type": "markdown",
   "metadata": {},
   "source": [
    "## Code Blocks"
   ]
  },
  {
   "cell_type": "markdown",
   "metadata": {},
   "source": [
    "Ok time for the last large difference with Python and other popular languages.  In c++/java/c# you use curly braces {} to create code blocks, Python uses white space (tabs and a colon).  Code blocks are created for the same surpose as other languages:  loops, conditions, functions, classes."
   ]
  },
  {
   "cell_type": "markdown",
   "metadata": {},
   "source": [
    "## Conditions"
   ]
  },
  {
   "cell_type": "markdown",
   "metadata": {},
   "source": [
    "Python supports condition checking with little difference from what you should be used to.  Instead of using && || to combine logical statements, Python uses the words and or.  To negate a boolean value Python uses the word not instead of !.  The remaining condition operators work as you would expect:  ==, !=, <, <=, >, >=."
   ]
  },
  {
   "cell_type": "code",
   "execution_count": 24,
   "metadata": {},
   "outputs": [
    {
     "name": "stdout",
     "output_type": "stream",
     "text": [
      "watch out!\n"
     ]
    }
   ],
   "source": [
    "hp = 10\n",
    "enemies_around = True\n",
    "alert = False\n",
    "\n",
    "if hp < 25 or not enemies_around:\n",
    "    print(\"watch out!\")\n",
    "    alert = True\n",
    "elif hp < 10:\n",
    "    print(\"heal!\")\n",
    "else:\n",
    "    print(\"all clear\")"
   ]
  },
  {
   "cell_type": "markdown",
   "metadata": {},
   "source": [
    "Conditions can also be chained so there is no need for multiple condition statements.  We can now discuss another idiomatic Python operator that checks to see if something is a container, in."
   ]
  },
  {
   "cell_type": "code",
   "execution_count": 25,
   "metadata": {},
   "outputs": [
    {
     "name": "stdout",
     "output_type": "stream",
     "text": [
      "found something\n",
      "so clean!\n"
     ]
    }
   ],
   "source": [
    "if \"world\" in \"hello world\" or 4 in range(1,10):\n",
    "    print(\"found something\")\n",
    "    \n",
    "var1 = 5\n",
    "if 10 > var1 > 0:\n",
    "    print(\"so clean!\")"
   ]
  },
  {
   "cell_type": "markdown",
   "metadata": {},
   "source": [
    "## Looping"
   ]
  },
  {
   "cell_type": "markdown",
   "metadata": {},
   "source": [
    "Looping in Python is similar to other languages.  For loops are typically meant to parse containers, if you don't have a container the range funcion returns list filled with values for you to parse).  Another useful function we have is called enumerate, this will return the index and value found in the container.  The while loop works more like we're used to, simply loop until the condition is false."
   ]
  },
  {
   "cell_type": "code",
   "execution_count": 26,
   "metadata": {},
   "outputs": [
    {
     "name": "stdout",
     "output_type": "stream",
     "text": [
      "gwyn\n",
      "nito\n",
      "pinwheel\n",
      "1\n",
      "2\n",
      "3\n"
     ]
    }
   ],
   "source": [
    "names = [\"gwyn\", \"nito\", \"pinwheel\"]\n",
    "\n",
    "for x in names:\n",
    "    print(x)\n",
    "    \n",
    "for x in range(1, 4):\n",
    "    print(x)"
   ]
  },
  {
   "cell_type": "code",
   "execution_count": 27,
   "metadata": {},
   "outputs": [
    {
     "name": "stdout",
     "output_type": "stream",
     "text": [
      "4\n",
      "16\n",
      "256\n"
     ]
    }
   ],
   "source": [
    "val = 2\n",
    "while val < 128:\n",
    "    val = val ** 2\n",
    "    print(val)"
   ]
  },
  {
   "cell_type": "markdown",
   "metadata": {},
   "source": [
    "While looping though a container it is sometimes useful to know which index a particular element is, if using a for loop to iterate through this can be accomplished by making a variable outside the loop and incrementing it each time through...or in Python we can use the enumerate function which does this for us.  Each time through the loop it will return the index and the element at that index."
   ]
  },
  {
   "cell_type": "code",
   "execution_count": 40,
   "metadata": {
    "scrolled": true
   },
   "outputs": [
    {
     "name": "stdout",
     "output_type": "stream",
     "text": [
      "gwyn is 0\n",
      "nito is 1\n",
      "pinwheel is 2\n"
     ]
    }
   ],
   "source": [
    "names = [\"gwyn\", \"nito\", \"pinwheel\"]\n",
    "for index, name in enumerate(names):\n",
    "    print(f'{name} is {index}')"
   ]
  },
  {
   "cell_type": "markdown",
   "metadata": {},
   "source": [
    "We can also iterate through more than one container at a time with the zip function.  What its actually doing is returning a tuple containing an element from each container."
   ]
  },
  {
   "cell_type": "code",
   "execution_count": 29,
   "metadata": {},
   "outputs": [
    {
     "name": "stdout",
     "output_type": "stream",
     "text": [
      "gwyn has a Moonlight Greatsword\n",
      "nito has a Velkas Rapier\n",
      "pinwheel has a Butcher Knife\n"
     ]
    }
   ],
   "source": [
    "names = [\"gwyn\", \"nito\", \"pinwheel\"]\n",
    "weapons = ['Moonlight Greatsword', 'Velkas Rapier', 'Butcher Knife', 'Painting Guardian Sword']\n",
    "for n, w in zip(names, weapons):\n",
    "    print(f\"{n} has a {w}\")"
   ]
  },
  {
   "cell_type": "markdown",
   "metadata": {},
   "source": [
    "## List / Dict Comprehension\n",
    "List comprehension is a powerful mechanism to quickly create a list with specific contents.  If you replace the square brackets for curly you can also do set/dictionary comprehension.\n",
    "*  i.upper() - output to the list\n",
    "*  for i in weapons - input sequence\n",
    "*  if len(i) > 13 - optional predicate that determines what from the input goes to the output"
   ]
  },
  {
   "cell_type": "code",
   "execution_count": 41,
   "metadata": {},
   "outputs": [
    {
     "name": "stdout",
     "output_type": "stream",
     "text": [
      "['Moonlight Greatsword', 'Painting Guardian Sword']\n"
     ]
    }
   ],
   "source": [
    "weapons = ['Moonlight Greatsword', 'Velkas Rapier', 'Butcher Knife', 'Painting Guardian Sword']\n",
    "print([i for i in weapons if len(i) > 13])"
   ]
  },
  {
   "cell_type": "markdown",
   "metadata": {},
   "source": [
    "This method can also be used to quickly make dictionaries."
   ]
  },
  {
   "cell_type": "code",
   "execution_count": 31,
   "metadata": {},
   "outputs": [
    {
     "name": "stdout",
     "output_type": "stream",
     "text": [
      "{'W': 2, 'A': 2, 'T': 1, 'K': 1, 'Y': 1, 'S': 1, 'G': 4}\n"
     ]
    }
   ],
   "source": [
    "text = \"WhAT a WAcKY StrinGGGG\"\n",
    "num_caps = {i:text.count(i) for i in text if i.isupper()}\n",
    "print(num_caps)"
   ]
  },
  {
   "cell_type": "markdown",
   "metadata": {},
   "source": [
    "## Functions\n",
    "You can create functions in Python, however there are a few convenient differences.  The def keyword is used to define a function, and of course they follow the same block indentation rules as other blocks in Python.  Notice however that the argument has no type, remember in Python we don't care what a variable is, only what it can do."
   ]
  },
  {
   "cell_type": "code",
   "execution_count": 32,
   "metadata": {},
   "outputs": [
    {
     "name": "stdout",
     "output_type": "stream",
     "text": [
      "hello\n",
      "100\n"
     ]
    }
   ],
   "source": [
    "def some_func(thing):\n",
    "    print(thing)\n",
    "    \n",
    "some_func(\"hello\")\n",
    "some_func(100)"
   ]
  },
  {
   "cell_type": "markdown",
   "metadata": {},
   "source": [
    "First notice that in Python you can return more than 1 thing, this is accomplished through a tuple (the , creates a tuple).  If you were wondering why we needed to do more than 1 assignment with an equal sign earlier, this is why."
   ]
  },
  {
   "cell_type": "code",
   "execution_count": 33,
   "metadata": {},
   "outputs": [
    {
     "name": "stdout",
     "output_type": "stream",
     "text": [
      "12, True, [3, 4]\n"
     ]
    }
   ],
   "source": [
    "def super_mult(a, b):\n",
    "    return a * b, True, [a,b]\n",
    "\n",
    "x, y, z = super_mult(3, 4)\n",
    "print(x, y, z, sep=', ')"
   ]
  },
  {
   "cell_type": "markdown",
   "metadata": {},
   "source": [
    "The last thing about functions in Python is that we can specify arguments by name and we can also specify default values, this allows us to create robust function signatures without having the user fill out unused arguments.  This also self documents the function call since we don't have to memorize what the function parameters do. One thing to notice with this example is that it could break if we passed in non-numeric input, we'll take a look later at how to fix this with exceptions.  With all of this extra functionality Python does not need to support function over loading since the arguments are typeless and we can pass in only the arguments that we need."
   ]
  },
  {
   "cell_type": "code",
   "execution_count": 34,
   "metadata": {},
   "outputs": [
    {
     "name": "stdout",
     "output_type": "stream",
     "text": [
      "13\n"
     ]
    }
   ],
   "source": [
    "def long_signature(skip1=None, skip2=None, skip3=None, skip4=None, skip5=None, a=None, b=None):\n",
    "    return a + b\n",
    "\n",
    "print(long_signature(b=10, a=3))"
   ]
  },
  {
   "cell_type": "markdown",
   "metadata": {},
   "source": [
    "## Importing\n",
    "As discussed earlier, one of the many benefits of Python is all of the extra funcionality built in.  To access these extra modules we use the import command.  Importing can be done differently depending on how you wish to access the module, or if you want to give the module an alias.  Giving a module an alias can help with the tedium of writing out a very long module name repeatedly.\n",
    "\n",
    "Importing is similar in purpose to the c include statement, though how it works is entirely different.  In python there is a module internal to the interpreter that contains various settings e.g. module names, arguments passed to the script, copyright information, system flags, modules loaded, and much more.  When you import modules it gets added to the sys.modules dictionary and can then be accessed.  This is also the only time python files are compiled, to speed up the process of importing."
   ]
  },
  {
   "cell_type": "code",
   "execution_count": 35,
   "metadata": {},
   "outputs": [
    {
     "name": "stdout",
     "output_type": "stream",
     "text": [
      "C:\\Users\\cbpatterson\\Desktop\\DVM\\notebooks\n",
      "19\n"
     ]
    }
   ],
   "source": [
    "import os\n",
    "print(os.getcwd())\n",
    "\n",
    "import random as rdn\n",
    "print(rdn.randint(10,20))"
   ]
  },
  {
   "cell_type": "markdown",
   "metadata": {},
   "source": [
    "You can also just import specific pieces of a module, this way you don't include everything which might not be used.  You can also provide an alias when importing in this manner as well."
   ]
  },
  {
   "cell_type": "code",
   "execution_count": 36,
   "metadata": {},
   "outputs": [
    {
     "data": {
      "text/plain": [
       "30"
      ]
     },
     "execution_count": 36,
     "metadata": {},
     "output_type": "execute_result"
    }
   ],
   "source": [
    "from random import randint as GIMME\n",
    "GIMME(20,30)"
   ]
  },
  {
   "cell_type": "markdown",
   "metadata": {},
   "source": [
    "There are a ton of built in modules which is part of Python's power (its in the batteries).  This can be daunting, but our goal isn't to memorize everything, just be familiar with how to use and access everything."
   ]
  },
  {
   "cell_type": "code",
   "execution_count": 37,
   "metadata": {},
   "outputs": [
    {
     "name": "stdout",
     "output_type": "stream",
     "text": [
      "!\"#$%&'()*+,-./:;<=>?@[\\]^_`{|}~\n"
     ]
    }
   ],
   "source": [
    "import string\n",
    "print(string.punctuation)"
   ]
  },
  {
   "cell_type": "markdown",
   "metadata": {},
   "source": [
    "## File IO\n",
    "Opening a file in Python is as straightforward, using the __open__ function returns a file object which gives you access to the file.  When opening the file you must specify the flags for what is allowed to happen with it.  It is also important to close the file when you are done with it.\n",
    "\n",
    "* r - open existing file for reading\n",
    "* w - create a new file for writing\n",
    "* a - opens an existing file for appending\n",
    "* b - binary mode\n",
    "* '+' - enables reading and writing\n",
    "\n",
    "The file object has similiar functionality to an fstream:  __read, readline, write, seek, tell, close__.  If you need any information about the file it has the following members:  __closed, mode, name__."
   ]
  },
  {
   "cell_type": "code",
   "execution_count": 38,
   "metadata": {},
   "outputs": [
    {
     "name": "stdout",
     "output_type": "stream",
     "text": [
      "assets\\wolf.txt\n",
      "▒▒▒▒▒▒▒▒▒▒▒▒▒▒▒▒▒▒░░░░░░░░░░▒▒▒▒▒▒▒▒▒▒▒▒▒▒▒▒\n",
      "▒▒▒▒▒▒▒▒▒▒▒▒▒░░░░░░░░░░░░░░░░░░░▒▒▒▒▒▒▒▒▒▒▒▒\n",
      "▒▒▒▒▒▒▒▒▒▒░░░░░░░░░░░░░░░░░░░░░░░░░▒▒▒▒▒▒▒▒▒\n",
      "▒▒▒▒▒▒▒▒░░░░░░░░░░░░░░░░░░░░░░░░░░░░░▒▒▒▒▒▒▒\n",
      "▒▒▒▒▒▒░░░░░░░░░░░░░░░░░░░░░░░░░░░░░░▄░░▒▒▒▒▒\n",
      "▒▒▒▒▒░░░░░░░░░░░░░░░░░░░░░░░░░░░░░░██▌░░▒▒▒▒\n",
      "▒▒▒▒░░░░░░░░░░░░░░░░░░░░░░░░░░░▄▄███▀░░░░▒▒▒\n",
      "▒▒▒░░░░░░░░░░░░░░░░░░░░░░░░░░░█████░▄█░░░░▒▒\n",
      "▒▒░░░░░░░░░░░░░░░░░░░░░░░░░░▄████████▀░░░░▒▒\n",
      "▒▒░░░░░░░░░░░░░░░░░░░░░░░░▄█████████░░░░░░░▒\n",
      "▒░░░░░░░░░░░░░░░░░░░░░░░░░░▄███████▌░░░░░░░▒\n",
      "▒░░░░░░░░░░░░░░░░░░░░░░░░▄█████████░░░░░░░░▒\n",
      "▒░░░░░░░░░░░░░░░░░░░░░▄███████████▌░░░░░░░░▒\n",
      "▒░░░░░░░░░░░░░░░▄▄▄▄██████████████▌░░░░░░░░▒\n",
      "▒░░░░░░░░░░░▄▄███████████████████▌░░░░░░░░░▒\n",
      "▒░░░░░░░░░▄██████████████████████▌░░░░░░░░░▒\n",
      "▒░░░░░░░░████████████████████████░░░░░░░░░░▒\n",
      "▒█░░░░░▐██████████▌░▀▀███████████░░░░░░░░░░▒\n",
      "▐██░░░▄██████████▌░░░░░░░░░▀██▐█▌░░░░░░░░░▒▒\n",
      "▒██████░█████████░░░░░░░░░░░▐█▐█▌░░░░░░░░░▒▒\n",
      "▒▒▀▀▀▀░░░██████▀░░░░░░░░░░░░▐█▐█▌░░░░░░░░▒▒▒\n",
      "▒▒▒▒▒░░░░▐█████▌░░░░░░░░░░░░▐█▐█▌░░░░░░░▒▒▒▒\n",
      "▒▒▒▒▒▒░░░░███▀██░░░░░░░░░░░░░█░█▌░░░░░░▒▒▒▒▒\n",
      "▒▒▒▒▒▒▒▒░▐██░░░██░░░░░░░░▄▄████████▄▒▒▒▒▒▒▒▒\n",
      "▒▒▒▒▒▒▒▒▒██▌░░░░█▄░░░░░░▄███████████████████\n",
      "▒▒▒▒▒▒▒▒▒▐██▒▒░░░██▄▄███████████████████████\n",
      "▒▒▒▒▒▒▒▒▒▒▐██▒▒▄████████████████████████████\n",
      "████████████████████████████████████████████\n"
     ]
    }
   ],
   "source": [
    "file = open(\"assets\\wolf.txt\", \"r\", encoding=\"utf8\")\n",
    "print(file.name)\n",
    "for line in file:\n",
    "    print(line, end=\"\")\n",
    "file.close()"
   ]
  },
  {
   "cell_type": "markdown",
   "metadata": {},
   "source": [
    "## Zen of Python\n",
    " * Beautiful is better than ugly\n",
    " * Simple is better than complex\n",
    " * Flat is better than nested\n",
    " * Sparse is better than dense\n",
    " * Readability counts\n",
    " * If the implementation is hard to explain, its a bad idea"
   ]
  },
  {
   "cell_type": "markdown",
   "metadata": {},
   "source": [
    "# Ok\n",
    "Ok thats it for now, of course we can't cover every feature and nuance of a language in a single session, but this is more than enough to start writing some very cool scripts.\n",
    "\n",
    "It will take a while before the ease and power of Python becomes evident.  At first you will probably write your Python Scripts in c++, meaning that mentally you are just converting the c++ code to Python.  Over time you will start writing more Pythonic code, eventually it becomes an agony to write anything in c++.\n",
    "\n",
    "Here are two examples of Python code to demonstrate this."
   ]
  },
  {
   "cell_type": "code",
   "execution_count": 39,
   "metadata": {},
   "outputs": [
    {
     "name": "stdout",
     "output_type": "stream",
     "text": [
      "1 3 5 7 9\n",
      "1 3 5 7 9 "
     ]
    }
   ],
   "source": [
    "# very pythonic\n",
    "print(*[x for x in range(1,10) if x % 2])\n",
    "\n",
    "# very c++\n",
    "my_list = []\n",
    "for x in range(1,10):\n",
    "    my_list.append(x)\n",
    "for num in my_list:\n",
    "    if num % 2 != 0:\n",
    "        print(num,end=\" \")"
   ]
  }
 ],
 "metadata": {
  "anaconda-cloud": {},
  "kernelspec": {
   "display_name": "Python [conda env:base] *",
   "language": "python",
   "name": "conda-base-py"
  },
  "language_info": {
   "codemirror_mode": {
    "name": "ipython",
    "version": 3
   },
   "file_extension": ".py",
   "mimetype": "text/x-python",
   "name": "python",
   "nbconvert_exporter": "python",
   "pygments_lexer": "ipython3",
   "version": "3.12.7"
  }
 },
 "nbformat": 4,
 "nbformat_minor": 4
}
